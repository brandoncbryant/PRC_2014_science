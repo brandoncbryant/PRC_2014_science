{
 "cells": [
  {
   "cell_type": "markdown",
   "metadata": {
    "collapsed": true
   },
   "source": [
    "# Pew Research Center public opinion on science survey from 2014 - questions"
   ]
  },
  {
   "cell_type": "code",
   "execution_count": null,
   "metadata": {
    "collapsed": true
   },
   "outputs": [],
   "source": [
    "import numpy as np\n",
    "import pandas as pd"
   ]
  },
  {
   "cell_type": "code",
   "execution_count": 30,
   "metadata": {
    "collapsed": false
   },
   "outputs": [
    {
     "data": {
      "text/html": [
       "<div>\n",
       "<table border=\"1\" class=\"dataframe\">\n",
       "  <thead>\n",
       "    <tr style=\"text-align: right;\">\n",
       "      <th></th>\n",
       "      <th>caseid</th>\n",
       "      <th>weight</th>\n",
       "      <th>sample</th>\n",
       "      <th>int_date</th>\n",
       "      <th>lang</th>\n",
       "      <th>cregion</th>\n",
       "      <th>state</th>\n",
       "      <th>usr</th>\n",
       "      <th>density</th>\n",
       "      <th>form</th>\n",
       "      <th>...</th>\n",
       "      <th>party</th>\n",
       "      <th>partyln</th>\n",
       "      <th>ideo</th>\n",
       "      <th>hh1</th>\n",
       "      <th>hh3</th>\n",
       "      <th>eminuse</th>\n",
       "      <th>intmob</th>\n",
       "      <th>ql1</th>\n",
       "      <th>ql1a</th>\n",
       "      <th>qc1</th>\n",
       "    </tr>\n",
       "  </thead>\n",
       "  <tbody>\n",
       "    <tr>\n",
       "      <th>0</th>\n",
       "      <td>100003</td>\n",
       "      <td>3.285714</td>\n",
       "      <td>1</td>\n",
       "      <td>81514</td>\n",
       "      <td>1</td>\n",
       "      <td>3</td>\n",
       "      <td>37</td>\n",
       "      <td>U</td>\n",
       "      <td>3</td>\n",
       "      <td>2</td>\n",
       "      <td>...</td>\n",
       "      <td>3</td>\n",
       "      <td>1</td>\n",
       "      <td>2</td>\n",
       "      <td>9</td>\n",
       "      <td>9</td>\n",
       "      <td>1</td>\n",
       "      <td>1</td>\n",
       "      <td>1</td>\n",
       "      <td></td>\n",
       "      <td></td>\n",
       "    </tr>\n",
       "    <tr>\n",
       "      <th>1</th>\n",
       "      <td>100004</td>\n",
       "      <td>3.214286</td>\n",
       "      <td>1</td>\n",
       "      <td>81814</td>\n",
       "      <td>1</td>\n",
       "      <td>3</td>\n",
       "      <td>51</td>\n",
       "      <td>U</td>\n",
       "      <td>5</td>\n",
       "      <td>1</td>\n",
       "      <td>...</td>\n",
       "      <td>2</td>\n",
       "      <td></td>\n",
       "      <td>5</td>\n",
       "      <td>5</td>\n",
       "      <td>2</td>\n",
       "      <td>1</td>\n",
       "      <td>1</td>\n",
       "      <td>1</td>\n",
       "      <td></td>\n",
       "      <td></td>\n",
       "    </tr>\n",
       "    <tr>\n",
       "      <th>2</th>\n",
       "      <td>100014</td>\n",
       "      <td>1.857143</td>\n",
       "      <td>1</td>\n",
       "      <td>81514</td>\n",
       "      <td>1</td>\n",
       "      <td>1</td>\n",
       "      <td>36</td>\n",
       "      <td>U</td>\n",
       "      <td>5</td>\n",
       "      <td>1</td>\n",
       "      <td>...</td>\n",
       "      <td>1</td>\n",
       "      <td></td>\n",
       "      <td>2</td>\n",
       "      <td>1</td>\n",
       "      <td></td>\n",
       "      <td>1</td>\n",
       "      <td>2</td>\n",
       "      <td>1</td>\n",
       "      <td></td>\n",
       "      <td></td>\n",
       "    </tr>\n",
       "    <tr>\n",
       "      <th>3</th>\n",
       "      <td>100020</td>\n",
       "      <td>3.500000</td>\n",
       "      <td>1</td>\n",
       "      <td>81914</td>\n",
       "      <td>1</td>\n",
       "      <td>1</td>\n",
       "      <td>9</td>\n",
       "      <td>S</td>\n",
       "      <td>4</td>\n",
       "      <td>2</td>\n",
       "      <td>...</td>\n",
       "      <td>9</td>\n",
       "      <td>1</td>\n",
       "      <td>2</td>\n",
       "      <td>3</td>\n",
       "      <td>2</td>\n",
       "      <td>1</td>\n",
       "      <td>1</td>\n",
       "      <td>1</td>\n",
       "      <td></td>\n",
       "      <td></td>\n",
       "    </tr>\n",
       "    <tr>\n",
       "      <th>4</th>\n",
       "      <td>100022</td>\n",
       "      <td>3.642857</td>\n",
       "      <td>1</td>\n",
       "      <td>81814</td>\n",
       "      <td>1</td>\n",
       "      <td>2</td>\n",
       "      <td>39</td>\n",
       "      <td>S</td>\n",
       "      <td>5</td>\n",
       "      <td>1</td>\n",
       "      <td>...</td>\n",
       "      <td>1</td>\n",
       "      <td></td>\n",
       "      <td>3</td>\n",
       "      <td>2</td>\n",
       "      <td>2</td>\n",
       "      <td>1</td>\n",
       "      <td>1</td>\n",
       "      <td>1</td>\n",
       "      <td></td>\n",
       "      <td></td>\n",
       "    </tr>\n",
       "    <tr>\n",
       "      <th>5</th>\n",
       "      <td>100030</td>\n",
       "      <td>2.357143</td>\n",
       "      <td>1</td>\n",
       "      <td>81514</td>\n",
       "      <td>1</td>\n",
       "      <td>3</td>\n",
       "      <td>37</td>\n",
       "      <td>R</td>\n",
       "      <td>2</td>\n",
       "      <td>1</td>\n",
       "      <td>...</td>\n",
       "      <td>1</td>\n",
       "      <td></td>\n",
       "      <td>2</td>\n",
       "      <td>1</td>\n",
       "      <td></td>\n",
       "      <td>2</td>\n",
       "      <td>2</td>\n",
       "      <td>1</td>\n",
       "      <td></td>\n",
       "      <td></td>\n",
       "    </tr>\n",
       "    <tr>\n",
       "      <th>6</th>\n",
       "      <td>100036</td>\n",
       "      <td>3.071429</td>\n",
       "      <td>1</td>\n",
       "      <td>81514</td>\n",
       "      <td>1</td>\n",
       "      <td>3</td>\n",
       "      <td>12</td>\n",
       "      <td>S</td>\n",
       "      <td>4</td>\n",
       "      <td>1</td>\n",
       "      <td>...</td>\n",
       "      <td>3</td>\n",
       "      <td>2</td>\n",
       "      <td>3</td>\n",
       "      <td>2</td>\n",
       "      <td>2</td>\n",
       "      <td>1</td>\n",
       "      <td>1</td>\n",
       "      <td>1</td>\n",
       "      <td></td>\n",
       "      <td></td>\n",
       "    </tr>\n",
       "    <tr>\n",
       "      <th>7</th>\n",
       "      <td>100037</td>\n",
       "      <td>16.071429</td>\n",
       "      <td>1</td>\n",
       "      <td>81514</td>\n",
       "      <td>1</td>\n",
       "      <td>1</td>\n",
       "      <td>42</td>\n",
       "      <td>S</td>\n",
       "      <td>1</td>\n",
       "      <td>1</td>\n",
       "      <td>...</td>\n",
       "      <td>1</td>\n",
       "      <td></td>\n",
       "      <td>3</td>\n",
       "      <td>3</td>\n",
       "      <td>1</td>\n",
       "      <td>1</td>\n",
       "      <td>1</td>\n",
       "      <td>1</td>\n",
       "      <td></td>\n",
       "      <td></td>\n",
       "    </tr>\n",
       "    <tr>\n",
       "      <th>8</th>\n",
       "      <td>100041</td>\n",
       "      <td>1.785714</td>\n",
       "      <td>1</td>\n",
       "      <td>81514</td>\n",
       "      <td>1</td>\n",
       "      <td>3</td>\n",
       "      <td>45</td>\n",
       "      <td>S</td>\n",
       "      <td>1</td>\n",
       "      <td>2</td>\n",
       "      <td>...</td>\n",
       "      <td>3</td>\n",
       "      <td>9</td>\n",
       "      <td>3</td>\n",
       "      <td>3</td>\n",
       "      <td>3</td>\n",
       "      <td>1</td>\n",
       "      <td>2</td>\n",
       "      <td>1</td>\n",
       "      <td></td>\n",
       "      <td></td>\n",
       "    </tr>\n",
       "    <tr>\n",
       "      <th>9</th>\n",
       "      <td>100048</td>\n",
       "      <td>16.285714</td>\n",
       "      <td>1</td>\n",
       "      <td>81514</td>\n",
       "      <td>1</td>\n",
       "      <td>1</td>\n",
       "      <td>36</td>\n",
       "      <td>S</td>\n",
       "      <td>5</td>\n",
       "      <td>2</td>\n",
       "      <td>...</td>\n",
       "      <td>1</td>\n",
       "      <td></td>\n",
       "      <td>9</td>\n",
       "      <td>1</td>\n",
       "      <td></td>\n",
       "      <td>2</td>\n",
       "      <td>2</td>\n",
       "      <td>2</td>\n",
       "      <td></td>\n",
       "      <td></td>\n",
       "    </tr>\n",
       "  </tbody>\n",
       "</table>\n",
       "<p>10 rows × 100 columns</p>\n",
       "</div>"
      ],
      "text/plain": [
       "   caseid     weight  sample  int_date  lang  cregion  state usr  density  \\\n",
       "0  100003   3.285714       1     81514     1        3     37   U        3   \n",
       "1  100004   3.214286       1     81814     1        3     51   U        5   \n",
       "2  100014   1.857143       1     81514     1        1     36   U        5   \n",
       "3  100020   3.500000       1     81914     1        1      9   S        4   \n",
       "4  100022   3.642857       1     81814     1        2     39   S        5   \n",
       "5  100030   2.357143       1     81514     1        3     37   R        2   \n",
       "6  100036   3.071429       1     81514     1        3     12   S        4   \n",
       "7  100037  16.071429       1     81514     1        1     42   S        1   \n",
       "8  100041   1.785714       1     81514     1        3     45   S        1   \n",
       "9  100048  16.285714       1     81514     1        1     36   S        5   \n",
       "\n",
       "   form ...   party  partyln  ideo  hh1  hh3  eminuse intmob ql1  ql1a  qc1  \n",
       "0     2 ...       3        1     2    9    9        1      1   1             \n",
       "1     1 ...       2              5    5    2        1      1   1             \n",
       "2     1 ...       1              2    1             1      2   1             \n",
       "3     2 ...       9        1     2    3    2        1      1   1             \n",
       "4     1 ...       1              3    2    2        1      1   1             \n",
       "5     1 ...       1              2    1             2      2   1             \n",
       "6     1 ...       3        2     3    2    2        1      1   1             \n",
       "7     1 ...       1              3    3    1        1      1   1             \n",
       "8     2 ...       3        9     3    3    3        1      2   1             \n",
       "9     2 ...       1              9    1             2      2   2             \n",
       "\n",
       "[10 rows x 100 columns]"
      ]
     },
     "execution_count": 30,
     "metadata": {},
     "output_type": "execute_result"
    },
    {
     "data": {
      "text/plain": [
       "Index(['caseid', 'weight', 'sample', 'int_date', 'lang', 'cregion', 'state',\n",
       "       'usr', 'density', 'form', 'q1', 'q2a', 'q2b', 'q2c', 'q2e', 'q2f',\n",
       "       'q2gf1', 'q2hf2', 'q3', 'q4', 'q5a', 'q5b', 'q5c', 'q6', 'q7', 'q8',\n",
       "       'q9f1', 'q9f1_code1', 'q9f1_code2', 'q9f1_code3', 'q12a', 'q12b', 'q13',\n",
       "       'q16', 'q17', 'q18', 'q20f1', 'q21af2', 'q21bf2', 'q21cf2', 'q23',\n",
       "       'q24a', 'q24b', 'q24c', 'q24d', 'q24e', 'q24f', 'q25', 'q27', 'q28',\n",
       "       'q29', 'q30', 'q32', 'q33', 'q34', 'q35', 'q37', 'q38', 'q39', 'q40',\n",
       "       'q41', 'knosct14', 'knosct15', 'knosct16', 'knosct17', 'knosct18',\n",
       "       'knosct19', 'knosct_count', 'sexz', 'agerec', 'educ2', 'scideg', 'hisp',\n",
       "       'racecmb', 'race3m1', 'race3m2', 'race3m3', 'race3m4', 'racethn',\n",
       "       'birth_hisp', 'usborn', 'marital', 'parent', 'citizen', 'relig', 'chr',\n",
       "       'born', 'attend', 'income', 'reg', 'party', 'partyln', 'ideo', 'hh1',\n",
       "       'hh3', 'eminuse', 'intmob', 'ql1', 'ql1a', 'qc1'],\n",
       "      dtype='object')"
      ]
     },
     "execution_count": 30,
     "metadata": {},
     "output_type": "execute_result"
    }
   ],
   "source": [
    "df = pd.read_csv(\"PRC_2014_sciencesurvey.csv\")\n",
    "df.head(10)\n",
    "df.columns"
   ]
  },
  {
   "cell_type": "code",
   "execution_count": null,
   "metadata": {
    "collapsed": false
   },
   "outputs": [],
   "source": []
  },
  {
   "cell_type": "code",
   "execution_count": 21,
   "metadata": {
    "collapsed": false
   },
   "outputs": [],
   "source": [
    "#df.dtypes"
   ]
  },
  {
   "cell_type": "code",
   "execution_count": 20,
   "metadata": {
    "collapsed": false
   },
   "outputs": [],
   "source": [
    "#df.describe()"
   ]
  },
  {
   "cell_type": "code",
   "execution_count": 19,
   "metadata": {
    "collapsed": false
   },
   "outputs": [],
   "source": [
    "#df.info()"
   ]
  },
  {
   "cell_type": "code",
   "execution_count": 56,
   "metadata": {
    "collapsed": false
   },
   "outputs": [
    {
     "data": {
      "text/plain": [
       "0"
      ]
     },
     "execution_count": 56,
     "metadata": {},
     "output_type": "execute_result"
    }
   ],
   "source": [
    "# no nan values\n",
    "df.isnull().sum().sum()"
   ]
  },
  {
   "cell_type": "markdown",
   "metadata": {},
   "source": [
    "# QUESTIONS"
   ]
  },
  {
   "cell_type": "code",
   "execution_count": 54,
   "metadata": {
    "collapsed": false
   },
   "outputs": [
    {
     "data": {
      "text/plain": [
       "2    1357\n",
       "1     549\n",
       "9      96\n",
       "Name: q1, dtype: int64"
      ]
     },
     "execution_count": 54,
     "metadata": {},
     "output_type": "execute_result"
    }
   ],
   "source": [
    "# q1 = satisfied, 1 yes, 2 no, 9 don't know\n",
    "df['q1'].value_counts()"
   ]
  },
  {
   "cell_type": "code",
   "execution_count": 71,
   "metadata": {
    "collapsed": false
   },
   "outputs": [
    {
     "data": {
      "text/plain": [
       "     1.000000\n",
       "2    0.349650\n",
       "3    0.264735\n",
       "1    0.195804\n",
       "4    0.176823\n",
       "9    0.012987\n",
       "Name: q2gf1, dtype: float64"
      ]
     },
     "execution_count": 71,
     "metadata": {},
     "output_type": "execute_result"
    },
    {
     "data": {
      "text/plain": [
       "     1.000000\n",
       "4    0.357642\n",
       "3    0.310689\n",
       "2    0.193806\n",
       "1    0.105894\n",
       "9    0.031968\n",
       "Name: q2hf2, dtype: float64"
      ]
     },
     "execution_count": 71,
     "metadata": {},
     "output_type": "execute_result"
    }
   ],
   "source": [
    "# q2a,b,c,e,f,gf1,hf2 = compare US to other countries\n",
    "# sci achievements, military, economy,stem ed for K-12, political, medical treatment, health care\n",
    "df['q2gf1'].value_counts()/1001\n",
    "df['q2hf2'].value_counts()/1001"
   ]
  },
  {
   "cell_type": "code",
   "execution_count": 58,
   "metadata": {
    "collapsed": true
   },
   "outputs": [],
   "source": [
    "# q3 = enjoy science"
   ]
  },
  {
   "cell_type": "code",
   "execution_count": 59,
   "metadata": {
    "collapsed": true
   },
   "outputs": [],
   "source": [
    "# q4 = has science made life easier"
   ]
  },
  {
   "cell_type": "code",
   "execution_count": 72,
   "metadata": {
    "collapsed": true
   },
   "outputs": [],
   "source": [
    "# q5a,b,c = science had + or - impact\n",
    "# food, healthcare, environment"
   ]
  },
  {
   "cell_type": "code",
   "execution_count": 73,
   "metadata": {
    "collapsed": true
   },
   "outputs": [],
   "source": [
    "# q6 = public opinion should play a role"
   ]
  },
  {
   "cell_type": "code",
   "execution_count": 77,
   "metadata": {
    "collapsed": false
   },
   "outputs": [
    {
     "data": {
      "text/plain": [
       "1    1100\n",
       "2     830\n",
       "9      72\n",
       "Name: q7, dtype: int64"
      ]
     },
     "execution_count": 77,
     "metadata": {},
     "output_type": "execute_result"
    }
   ],
   "source": [
    "# q7 = science & religion conflict/compatible (1-cf,2-cp)\n",
    "df['q7'].value_counts()"
   ]
  },
  {
   "cell_type": "code",
   "execution_count": 79,
   "metadata": {
    "collapsed": false
   },
   "outputs": [
    {
     "data": {
      "text/plain": [
       "2    1341\n",
       "1     615\n",
       "9      46\n",
       "Name: q8, dtype: int64"
      ]
     },
     "execution_count": 79,
     "metadata": {},
     "output_type": "execute_result"
    }
   ],
   "source": [
    "# q8 = does science sometimes conflict with your rel. beliefs\n",
    "df['q8'].value_counts()"
   ]
  },
  {
   "cell_type": "code",
   "execution_count": 82,
   "metadata": {
    "collapsed": false
   },
   "outputs": [],
   "source": [
    "# q9f1 = (if q8=1) open response on how"
   ]
  },
  {
   "cell_type": "code",
   "execution_count": 83,
   "metadata": {
    "collapsed": true
   },
   "outputs": [],
   "source": [
    "# q12 = do govt investments usually pay off in long run"
   ]
  },
  {
   "cell_type": "code",
   "execution_count": 84,
   "metadata": {
    "collapsed": true
   },
   "outputs": [],
   "source": [
    "# q13 = govt or private investment"
   ]
  },
  {
   "cell_type": "code",
   "execution_count": 85,
   "metadata": {
    "collapsed": false
   },
   "outputs": [
    {
     "data": {
      "text/plain": [
       "1    1326\n",
       "2     595\n",
       "9      81\n",
       "Name: q16, dtype: int64"
      ]
     },
     "execution_count": 85,
     "metadata": {},
     "output_type": "execute_result"
    }
   ],
   "source": [
    "# q16 = humans evolved; essentially 1=yes, 2=no\n",
    "df['q16'].value_counts()"
   ]
  },
  {
   "cell_type": "code",
   "execution_count": 88,
   "metadata": {
    "collapsed": false
   },
   "outputs": [
    {
     "data": {
      "text/plain": [
       "1    740\n",
       "     676\n",
       "2    491\n",
       "9     95\n",
       "Name: q17, dtype: int64"
      ]
     },
     "execution_count": 88,
     "metadata": {},
     "output_type": "execute_result"
    }
   ],
   "source": [
    "# q17 = (if q16 = 1) natural/supreme being\n",
    "df['q17'].value_counts()"
   ]
  },
  {
   "cell_type": "code",
   "execution_count": 89,
   "metadata": {
    "collapsed": false
   },
   "outputs": [
    {
     "data": {
      "text/plain": [
       "1    1327\n",
       "2     550\n",
       "9     125\n",
       "Name: q18, dtype: int64"
      ]
     },
     "execution_count": 89,
     "metadata": {},
     "output_type": "execute_result"
    }
   ],
   "source": [
    "# q18 = do scientists hold to evolution\n",
    "df['q18'].value_counts()"
   ]
  },
  {
   "cell_type": "code",
   "execution_count": 92,
   "metadata": {
    "collapsed": false
   },
   "outputs": [
    {
     "data": {
      "text/plain": [
       "     1001\n",
       "2     520\n",
       "1     242\n",
       "3     216\n",
       "9      23\n",
       "Name: q20f1, dtype: int64"
      ]
     },
     "execution_count": 92,
     "metadata": {},
     "output_type": "execute_result"
    }
   ],
   "source": [
    "# q20f1 = earth is getting warmer natural/human/not enough evidence\n",
    "df['q20f1'].value_counts()"
   ]
  },
  {
   "cell_type": "code",
   "execution_count": 94,
   "metadata": {
    "collapsed": false
   },
   "outputs": [
    {
     "data": {
      "text/plain": [
       "     1001\n",
       "1     742\n",
       "2     222\n",
       "9      24\n",
       "3      13\n",
       "Name: q21af2, dtype: int64"
      ]
     },
     "execution_count": 94,
     "metadata": {},
     "output_type": "execute_result"
    }
   ],
   "source": [
    "# q21af2 = is there solid evidence that avg temp has been getting warmer\n",
    "df['q21af2'].value_counts()"
   ]
  },
  {
   "cell_type": "code",
   "execution_count": 100,
   "metadata": {
    "collapsed": false
   },
   "outputs": [
    {
     "data": {
      "text/plain": [
       "     1260\n",
       "1     494\n",
       "2     212\n",
       "9      36\n",
       "Name: q21bf2, dtype: int64"
      ]
     },
     "execution_count": 100,
     "metadata": {},
     "output_type": "execute_result"
    }
   ],
   "source": [
    "# q21bf2 = (if q21af2=1) do you believe earth getting warmer human/natural\n",
    "df['q21bf2'].value_counts()"
   ]
  },
  {
   "cell_type": "code",
   "execution_count": 101,
   "metadata": {
    "collapsed": false
   },
   "outputs": [
    {
     "data": {
      "text/plain": [
       "     1780\n",
       "2     110\n",
       "1     102\n",
       "9      10\n",
       "Name: q21cf2, dtype: int64"
      ]
     },
     "execution_count": 101,
     "metadata": {},
     "output_type": "execute_result"
    }
   ],
   "source": [
    "# q21cf2 = (if q21af2=2) don't know enough or not happening\n",
    "df['q21cf2'].value_counts()"
   ]
  },
  {
   "cell_type": "code",
   "execution_count": 103,
   "metadata": {
    "collapsed": false
   },
   "outputs": [
    {
     "data": {
      "text/plain": [
       "1    1157\n",
       "2     718\n",
       "9     127\n",
       "Name: q23, dtype: int64"
      ]
     },
     "execution_count": 103,
     "metadata": {},
     "output_type": "execute_result"
    }
   ],
   "source": [
    "# q23 = do scientist agree that earth is warming because of human\n",
    "df['q23'].value_counts()"
   ]
  },
  {
   "cell_type": "code",
   "execution_count": 104,
   "metadata": {
    "collapsed": true
   },
   "outputs": [],
   "source": [
    "# q24a,b,c,d,e,f = favor/oppose\n",
    "# animals in sci research, nucl. power, fracking, gmo for fuel, offshore drilling, exp. drugs"
   ]
  },
  {
   "cell_type": "code",
   "execution_count": 105,
   "metadata": {
    "collapsed": false
   },
   "outputs": [
    {
     "data": {
      "text/plain": [
       "2    1404\n",
       "1     564\n",
       "9      34\n",
       "Name: q25, dtype: int64"
      ]
     },
     "execution_count": 105,
     "metadata": {},
     "output_type": "execute_result"
    }
   ],
   "source": [
    "# q25 = childhood diseases, parents able to decide/required\n",
    "df['q25'].value_counts()"
   ]
  },
  {
   "cell_type": "code",
   "execution_count": 106,
   "metadata": {
    "collapsed": false
   },
   "outputs": [
    {
     "data": {
      "text/plain": [
       "1    1505\n",
       "2     424\n",
       "9      73\n",
       "Name: q27, dtype: int64"
      ]
     },
     "execution_count": 106,
     "metadata": {},
     "output_type": "execute_result"
    }
   ],
   "source": [
    "# q27 = artificial organs appropriate/too far\n",
    "df['q27'].value_counts()"
   ]
  },
  {
   "cell_type": "code",
   "execution_count": 107,
   "metadata": {
    "collapsed": false
   },
   "outputs": [
    {
     "data": {
      "text/plain": [
       "2    1189\n",
       "1     765\n",
       "9      48\n",
       "Name: q28, dtype: int64"
      ]
     },
     "execution_count": 107,
     "metadata": {},
     "output_type": "execute_result"
    }
   ],
   "source": [
    "# q28 = growing world pop. will/will not be a problem\n",
    "df['q28'].value_counts()"
   ]
  },
  {
   "cell_type": "code",
   "execution_count": 108,
   "metadata": {
    "collapsed": false
   },
   "outputs": [
    {
     "data": {
      "text/plain": [
       "1    1345\n",
       "2     517\n",
       "9     140\n",
       "Name: q29, dtype: int64"
      ]
     },
     "execution_count": 108,
     "metadata": {},
     "output_type": "execute_result"
    }
   ],
   "source": [
    "# q29 = space station good investment\n",
    "df['q29'].value_counts()"
   ]
  },
  {
   "cell_type": "code",
   "execution_count": 109,
   "metadata": {
    "collapsed": false
   },
   "outputs": [
    {
     "data": {
      "text/plain": [
       "1    1205\n",
       "2     731\n",
       "9      66\n",
       "Name: q30, dtype: int64"
      ]
     },
     "execution_count": 109,
     "metadata": {},
     "output_type": "execute_result"
    }
   ],
   "source": [
    "# q30 = humans more expensive to send to space than robots; is it essential to include humans in space\n",
    "df['q30'].value_counts()"
   ]
  },
  {
   "cell_type": "code",
   "execution_count": 110,
   "metadata": {
    "collapsed": false
   },
   "outputs": [
    {
     "data": {
      "text/plain": [
       "2    1013\n",
       "1     843\n",
       "9     107\n",
       "3      39\n",
       "Name: q32, dtype: int64"
      ]
     },
     "execution_count": 110,
     "metadata": {},
     "output_type": "execute_result"
    }
   ],
   "source": [
    "# q32 = scientist agree about the Big Bang\n",
    "df['q32'].value_counts()"
   ]
  },
  {
   "cell_type": "code",
   "execution_count": 111,
   "metadata": {
    "collapsed": false
   },
   "outputs": [
    {
     "data": {
      "text/plain": [
       "2    1653\n",
       "1     306\n",
       "9      43\n",
       "Name: q33, dtype: int64"
      ]
     },
     "execution_count": 111,
     "metadata": {},
     "output_type": "execute_result"
    }
   ],
   "source": [
    "# q33 = changing a baby's characteristics to make baby more intelligent is appropriate/too far\n",
    "df['q33'].value_counts()"
   ]
  },
  {
   "cell_type": "code",
   "execution_count": 112,
   "metadata": {
    "collapsed": false
   },
   "outputs": [
    {
     "data": {
      "text/plain": [
       "2    983\n",
       "1    928\n",
       "9     91\n",
       "Name: q34, dtype: int64"
      ]
     },
     "execution_count": 112,
     "metadata": {},
     "output_type": "execute_result"
    }
   ],
   "source": [
    "# q34 = changing a baby's characteristics to reduce risk of serious diseases is appropriate/too far\n",
    "df['q34'].value_counts()"
   ]
  },
  {
   "cell_type": "code",
   "execution_count": 113,
   "metadata": {
    "collapsed": false
   },
   "outputs": [
    {
     "data": {
      "text/plain": [
       "2    1366\n",
       "1     574\n",
       "9      62\n",
       "Name: q35, dtype: int64"
      ]
     },
     "execution_count": 113,
     "metadata": {},
     "output_type": "execute_result"
    }
   ],
   "source": [
    "# q35 = safe/unsafe to eat foods grown with pesticides\n",
    "df['q35'].value_counts()"
   ]
  },
  {
   "cell_type": "code",
   "execution_count": 114,
   "metadata": {
    "collapsed": true
   },
   "outputs": [],
   "source": [
    "# Scientists can change the genes in some food crops and farm animals to make them grow faster or bigger and be more resistant to bugs, weeds, and disease."
   ]
  },
  {
   "cell_type": "code",
   "execution_count": 115,
   "metadata": {
    "collapsed": true
   },
   "outputs": [],
   "source": [
    "# q37 = how often look to see if food is gmo while shopping"
   ]
  },
  {
   "cell_type": "code",
   "execution_count": 116,
   "metadata": {
    "collapsed": true
   },
   "outputs": [],
   "source": [
    "# q38 = safe/unsafe to eat gmo foods"
   ]
  },
  {
   "cell_type": "code",
   "execution_count": 117,
   "metadata": {
    "collapsed": true
   },
   "outputs": [],
   "source": [
    "# q39 = scientists have clear understanding of gmo health effects"
   ]
  },
  {
   "cell_type": "code",
   "execution_count": 118,
   "metadata": {
    "collapsed": false
   },
   "outputs": [
    {
     "data": {
      "text/plain": [
       "1    1002\n",
       "2     910\n",
       "9      51\n",
       "3      39\n",
       "Name: q40, dtype: int64"
      ]
     },
     "execution_count": 118,
     "metadata": {},
     "output_type": "execute_result"
    }
   ],
   "source": [
    "# q40 = churches/houses of worship should express/keep out views about policy decisions on scientific issues\n",
    "df['q40'].value_counts()"
   ]
  },
  {
   "cell_type": "code",
   "execution_count": 120,
   "metadata": {
    "collapsed": false
   },
   "outputs": [
    {
     "data": {
      "text/plain": [
       "3    1290\n",
       "1     488\n",
       "2     148\n",
       "9      76\n",
       "Name: q41, dtype: int64"
      ]
     },
     "execution_count": 120,
     "metadata": {},
     "output_type": "execute_result"
    }
   ],
   "source": [
    "# q41 = your impression; scientists are liberal/conservative/neither\n",
    "df['q41'].value_counts()"
   ]
  },
  {
   "cell_type": "markdown",
   "metadata": {},
   "source": [
    "# KNOWLEDGE"
   ]
  },
  {
   "cell_type": "code",
   "execution_count": 121,
   "metadata": {
    "collapsed": false
   },
   "outputs": [
    {
     "data": {
      "text/plain": [
       "1    1500\n",
       "3     292\n",
       "2     158\n",
       "8      31\n",
       "9      21\n",
       "Name: knosct14, dtype: int64"
      ]
     },
     "execution_count": 121,
     "metadata": {},
     "output_type": "execute_result"
    }
   ],
   "source": [
    "# knosct14 = which is major concern about overuse of antibiotics\n",
    "df['knosct14'].value_counts()"
   ]
  },
  {
   "cell_type": "code",
   "execution_count": 123,
   "metadata": {
    "collapsed": false
   },
   "outputs": [
    {
     "data": {
      "text/plain": [
       "2    1307\n",
       "1     503\n",
       "8     165\n",
       "9      27\n",
       "Name: knosct15, dtype: int64"
      ]
     },
     "execution_count": 123,
     "metadata": {},
     "output_type": "execute_result"
    }
   ],
   "source": [
    "# knosct15 = T/F; Lasers work by focusing sound waves\n",
    "df['knosct15'].value_counts()"
   ]
  },
  {
   "cell_type": "code",
   "execution_count": 126,
   "metadata": {
    "collapsed": false
   },
   "outputs": [
    {
     "data": {
      "text/plain": [
       "1    1316\n",
       "8     239\n",
       "2     159\n",
       "4     150\n",
       "3     108\n",
       "9      30\n",
       "Name: knosct16, dtype: int64"
      ]
     },
     "execution_count": 126,
     "metadata": {},
     "output_type": "execute_result"
    }
   ],
   "source": [
    "# knosct16 = nanotechnology deals with things that are extremely small/large/hot/cold\n",
    "df['knosct16'].value_counts()"
   ]
  },
  {
   "cell_type": "code",
   "execution_count": 127,
   "metadata": {
    "collapsed": true
   },
   "outputs": [],
   "source": [
    "# knosct17 = which is example of a chemical reaction (3c)"
   ]
  },
  {
   "cell_type": "code",
   "execution_count": 128,
   "metadata": {
    "collapsed": true
   },
   "outputs": [],
   "source": [
    "# knosct18 = main function of red blood cells"
   ]
  },
  {
   "cell_type": "code",
   "execution_count": 1,
   "metadata": {
    "collapsed": false
   },
   "outputs": [
    {
     "ename": "NameError",
     "evalue": "name 'df' is not defined",
     "output_type": "error",
     "traceback": [
      "\u001b[0;31m---------------------------------------------------------------------------\u001b[0m",
      "\u001b[0;31mNameError\u001b[0m                                 Traceback (most recent call last)",
      "\u001b[0;32m<ipython-input-1-1ece252c7174>\u001b[0m in \u001b[0;36m<module>\u001b[0;34m()\u001b[0m\n\u001b[1;32m      1\u001b[0m \u001b[0;31m# knosct19 = what gas do most scientists believe causes temps in atmosphere to rise\u001b[0m\u001b[0;34m\u001b[0m\u001b[0;34m\u001b[0m\u001b[0m\n\u001b[0;32m----> 2\u001b[0;31m \u001b[0mdf\u001b[0m\u001b[0;34m[\u001b[0m\u001b[0;34m'knosct19'\u001b[0m\u001b[0;34m]\u001b[0m\u001b[0;34m.\u001b[0m\u001b[0mvalue_counts\u001b[0m\u001b[0;34m(\u001b[0m\u001b[0;34m)\u001b[0m\u001b[0;34m\u001b[0m\u001b[0m\n\u001b[0m",
      "\u001b[0;31mNameError\u001b[0m: name 'df' is not defined"
     ]
    }
   ],
   "source": [
    "# knosct19 = what gas do most scientists believe causes temps in atmosphere to rise\n",
    "df['knosct19'].value_counts()"
   ]
  },
  {
   "cell_type": "code",
   "execution_count": null,
   "metadata": {
    "collapsed": true
   },
   "outputs": [],
   "source": [
    "# knosct_count = total number of questions answered correctly"
   ]
  },
  {
   "cell_type": "markdown",
   "metadata": {},
   "source": [
    "# DEMOGRAPHICS"
   ]
  },
  {
   "cell_type": "code",
   "execution_count": 130,
   "metadata": {
    "collapsed": false
   },
   "outputs": [
    {
     "data": {
      "text/plain": [
       "1    1007\n",
       "2     991\n",
       "8       2\n",
       "9       1\n",
       "3       1\n",
       "Name: sexz, dtype: int64"
      ]
     },
     "execution_count": 130,
     "metadata": {},
     "output_type": "execute_result"
    }
   ],
   "source": [
    "# sexz = 1M,2F\n",
    "df['sexz'].value_counts()"
   ]
  },
  {
   "cell_type": "code",
   "execution_count": 131,
   "metadata": {
    "collapsed": true
   },
   "outputs": [],
   "source": [
    "# agerec = age recorded; 90 = 90 or older; 99 = no recorded age"
   ]
  },
  {
   "cell_type": "code",
   "execution_count": 135,
   "metadata": {
    "collapsed": false
   },
   "outputs": [
    {
     "data": {
      "text/plain": [
       "3    537\n",
       "6    425\n",
       "8    356\n",
       "4    283\n",
       "5    199\n",
       "2     87\n",
       "1     74\n",
       "7     32\n",
       "9      9\n",
       "Name: educ2, dtype: int64"
      ]
     },
     "execution_count": 135,
     "metadata": {},
     "output_type": "execute_result"
    }
   ],
   "source": [
    "# educ2 = highest level school completed\n",
    "df['educ2'].value_counts()"
   ]
  },
  {
   "cell_type": "code",
   "execution_count": 136,
   "metadata": {
    "collapsed": false
   },
   "outputs": [
    {
     "data": {
      "text/plain": [
       "     1189\n",
       "2     509\n",
       "1     300\n",
       "3       4\n",
       "Name: scideg, dtype: int64"
      ]
     },
     "execution_count": 136,
     "metadata": {},
     "output_type": "execute_result"
    }
   ],
   "source": [
    "# scideg = (if educ2=6,7,8) is degree scientific\n",
    "df['scideg'].value_counts()"
   ]
  },
  {
   "cell_type": "code",
   "execution_count": 138,
   "metadata": {
    "collapsed": false
   },
   "outputs": [
    {
     "data": {
      "text/plain": [
       "2    1632\n",
       "1     360\n",
       "9      10\n",
       "Name: hisp, dtype: int64"
      ]
     },
     "execution_count": 138,
     "metadata": {},
     "output_type": "execute_result"
    }
   ],
   "source": [
    "# hisp = are you hispanic\n",
    "df['hisp'].value_counts()"
   ]
  },
  {
   "cell_type": "code",
   "execution_count": null,
   "metadata": {
    "collapsed": false
   },
   "outputs": [],
   "source": []
  },
  {
   "cell_type": "code",
   "execution_count": 149,
   "metadata": {
    "collapsed": false
   },
   "outputs": [],
   "source": [
    "# racecmb = race combined?\n",
    "# race3m1 = first listed\n",
    "# race3m2 = second listed\n",
    "# race3m3 = third listed\n",
    "# racem4 = fourth listed"
   ]
  },
  {
   "cell_type": "code",
   "execution_count": null,
   "metadata": {
    "collapsed": true
   },
   "outputs": [],
   "source": [
    "# birth_hisp = (hisp=1 or race=7) born in US/PR/other"
   ]
  },
  {
   "cell_type": "code",
   "execution_count": 150,
   "metadata": {
    "collapsed": true
   },
   "outputs": [],
   "source": [
    "# usborn = (hisp=2,9 or race!=7) born in US"
   ]
  },
  {
   "cell_type": "code",
   "execution_count": 151,
   "metadata": {
    "collapsed": true
   },
   "outputs": [],
   "source": [
    "# marital"
   ]
  },
  {
   "cell_type": "code",
   "execution_count": 152,
   "metadata": {
    "collapsed": true
   },
   "outputs": [],
   "source": [
    "# parent"
   ]
  },
  {
   "cell_type": "code",
   "execution_count": 153,
   "metadata": {
    "collapsed": true
   },
   "outputs": [],
   "source": [
    "# citizen = (birth_hisp=3,9 or usborn=2,9) are you a US citizen"
   ]
  },
  {
   "cell_type": "code",
   "execution_count": 154,
   "metadata": {
    "collapsed": false
   },
   "outputs": [
    {
     "data": {
      "text/plain": [
       "1     746\n",
       "2     448\n",
       "12    256\n",
       "13    165\n",
       "9      88\n",
       "10     75\n",
       "5      54\n",
       "99     35\n",
       "11     34\n",
       "3      23\n",
       "8      18\n",
       "6      17\n",
       "7      14\n",
       "15     12\n",
       "4      11\n",
       "14      6\n",
       "Name: relig, dtype: int64"
      ]
     },
     "execution_count": 154,
     "metadata": {},
     "output_type": "execute_result"
    }
   ],
   "source": [
    "# relig\n",
    "df['relig'].value_counts()"
   ]
  },
  {
   "cell_type": "code",
   "execution_count": 156,
   "metadata": {
    "collapsed": false
   },
   "outputs": [
    {
     "data": {
      "text/plain": [
       "     1933\n",
       "1      34\n",
       "2      25\n",
       "9      10\n",
       "Name: chr, dtype: int64"
      ]
     },
     "execution_count": 156,
     "metadata": {},
     "output_type": "execute_result"
    }
   ],
   "source": [
    "# chr = (if relig=11,99) do you think of yourself as a christian\n",
    "df['chr'].value_counts()"
   ]
  },
  {
   "cell_type": "code",
   "execution_count": null,
   "metadata": {
    "collapsed": false
   },
   "outputs": [],
   "source": []
  },
  {
   "cell_type": "code",
   "execution_count": 158,
   "metadata": {
    "collapsed": false
   },
   "outputs": [
    {
     "data": {
      "text/plain": [
       "2    749\n",
       "1    636\n",
       "     563\n",
       "9     49\n",
       "8      5\n",
       "Name: born, dtype: int64"
      ]
     },
     "execution_count": 158,
     "metadata": {},
     "output_type": "execute_result"
    }
   ],
   "source": [
    "# born = (if relig=1-4,13,15 or chr=1) Would you describe yourself as a \"born again\" or evangelical Christian\n",
    "df['born'].value_counts()"
   ]
  },
  {
   "cell_type": "code",
   "execution_count": 159,
   "metadata": {
    "collapsed": true
   },
   "outputs": [],
   "source": [
    "# attend = how often attend religious services"
   ]
  },
  {
   "cell_type": "code",
   "execution_count": 160,
   "metadata": {
    "collapsed": true
   },
   "outputs": [],
   "source": [
    "# income"
   ]
  },
  {
   "cell_type": "code",
   "execution_count": 161,
   "metadata": {
    "collapsed": true
   },
   "outputs": [],
   "source": [
    "# reg = registered to vote"
   ]
  },
  {
   "cell_type": "code",
   "execution_count": 163,
   "metadata": {
    "collapsed": false
   },
   "outputs": [
    {
     "data": {
      "text/plain": [
       "3    737\n",
       "2    666\n",
       "1    454\n",
       "4     82\n",
       "9     56\n",
       "5      7\n",
       "Name: party, dtype: int64"
      ]
     },
     "execution_count": 163,
     "metadata": {},
     "output_type": "execute_result"
    }
   ],
   "source": [
    "# party\n",
    "df['party'].value_counts()"
   ]
  },
  {
   "cell_type": "code",
   "execution_count": 164,
   "metadata": {
    "collapsed": false
   },
   "outputs": [
    {
     "data": {
      "text/plain": [
       "     1120\n",
       "9     306\n",
       "2     293\n",
       "1     283\n",
       "Name: partyln, dtype: int64"
      ]
     },
     "execution_count": 164,
     "metadata": {},
     "output_type": "execute_result"
    }
   ],
   "source": [
    "# partyln = (if party=3,4,5,9) party lean\n",
    "df['partyln'].value_counts()"
   ]
  },
  {
   "cell_type": "code",
   "execution_count": null,
   "metadata": {
    "collapsed": false
   },
   "outputs": [],
   "source": []
  },
  {
   "cell_type": "code",
   "execution_count": 167,
   "metadata": {
    "collapsed": false
   },
   "outputs": [
    {
     "data": {
      "text/plain": [
       "3    721\n",
       "2    571\n",
       "4    371\n",
       "1    127\n",
       "5    125\n",
       "9     87\n",
       "Name: ideo, dtype: int64"
      ]
     },
     "execution_count": 167,
     "metadata": {},
     "output_type": "execute_result"
    }
   ],
   "source": [
    "# ideo = political views; very conservative to very liberal\n",
    "df['ideo'].value_counts()"
   ]
  },
  {
   "cell_type": "code",
   "execution_count": 168,
   "metadata": {
    "collapsed": true
   },
   "outputs": [],
   "source": [
    "# hh1 = number in household"
   ]
  },
  {
   "cell_type": "code",
   "execution_count": 169,
   "metadata": {
    "collapsed": true
   },
   "outputs": [],
   "source": [
    "# hh3 = (if hh1>1) how many are 18 or older "
   ]
  },
  {
   "cell_type": "code",
   "execution_count": 170,
   "metadata": {
    "collapsed": true
   },
   "outputs": [],
   "source": [
    "# eminuse = do you use the internet or email"
   ]
  },
  {
   "cell_type": "code",
   "execution_count": 171,
   "metadata": {
    "collapsed": true
   },
   "outputs": [],
   "source": [
    "# intmob = do you access internet on a mobile device"
   ]
  },
  {
   "cell_type": "code",
   "execution_count": 173,
   "metadata": {
    "collapsed": false
   },
   "outputs": [
    {
     "data": {
      "text/plain": [
       "Index(['caseid', 'weight', 'sample', 'int_date', 'lang', 'cregion', 'state',\n",
       "       'usr', 'density', 'form', 'q1', 'q2a', 'q2b', 'q2c', 'q2e', 'q2f',\n",
       "       'q2gf1', 'q2hf2', 'q3', 'q4', 'q5a', 'q5b', 'q5c', 'q6', 'q7', 'q8',\n",
       "       'q9f1', 'q9f1_code1', 'q9f1_code2', 'q9f1_code3', 'q12a', 'q12b', 'q13',\n",
       "       'q16', 'q17', 'q18', 'q20f1', 'q21af2', 'q21bf2', 'q21cf2', 'q23',\n",
       "       'q24a', 'q24b', 'q24c', 'q24d', 'q24e', 'q24f', 'q25', 'q27', 'q28',\n",
       "       'q29', 'q30', 'q32', 'q33', 'q34', 'q35', 'q37', 'q38', 'q39', 'q40',\n",
       "       'q41', 'knosct14', 'knosct15', 'knosct16', 'knosct17', 'knosct18',\n",
       "       'knosct19', 'knosct_count', 'sexz', 'agerec', 'educ2', 'scideg', 'hisp',\n",
       "       'racecmb', 'race3m1', 'race3m2', 'race3m3', 'race3m4', 'racethn',\n",
       "       'birth_hisp', 'usborn', 'marital', 'parent', 'citizen', 'relig', 'chr',\n",
       "       'born', 'attend', 'income', 'reg', 'party', 'partyln', 'ideo', 'hh1',\n",
       "       'hh3', 'eminuse', 'intmob', 'ql1', 'ql1a', 'qc1'],\n",
       "      dtype='object')"
      ]
     },
     "execution_count": 173,
     "metadata": {},
     "output_type": "execute_result"
    }
   ],
   "source": [
    "df.columns"
   ]
  },
  {
   "cell_type": "code",
   "execution_count": 172,
   "metadata": {
    "collapsed": true
   },
   "outputs": [],
   "source": [
    "# ql1 = do you have a working cellphone"
   ]
  },
  {
   "cell_type": "code",
   "execution_count": 174,
   "metadata": {
    "collapsed": true
   },
   "outputs": [],
   "source": [
    "# ql1a = (if l1=2,9 and hh1>1) does anyone in household have a cell"
   ]
  },
  {
   "cell_type": "code",
   "execution_count": null,
   "metadata": {
    "collapsed": true
   },
   "outputs": [],
   "source": [
    "# qc1 = is there a telephone inside your home"
   ]
  }
 ],
 "metadata": {
  "anaconda-cloud": {},
  "kernelspec": {
   "display_name": "Python [Root]",
   "language": "python",
   "name": "Python [Root]"
  },
  "language_info": {
   "codemirror_mode": {
    "name": "ipython",
    "version": 3
   },
   "file_extension": ".py",
   "mimetype": "text/x-python",
   "name": "python",
   "nbconvert_exporter": "python",
   "pygments_lexer": "ipython3",
   "version": "3.5.2"
  }
 },
 "nbformat": 4,
 "nbformat_minor": 0
}
