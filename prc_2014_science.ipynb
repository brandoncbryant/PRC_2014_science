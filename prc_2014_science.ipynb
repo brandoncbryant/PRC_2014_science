{
 "cells": [
  {
   "cell_type": "markdown",
   "metadata": {
    "collapsed": true
   },
   "source": [
    "# Pew Research Center public opinion on science survey from 2014 - analysis"
   ]
  },
  {
   "cell_type": "code",
   "execution_count": 1,
   "metadata": {
    "collapsed": true
   },
   "outputs": [],
   "source": [
    "import numpy as np\n",
    "import pandas as pd"
   ]
  },
  {
   "cell_type": "code",
   "execution_count": 2,
   "metadata": {
    "collapsed": false
   },
   "outputs": [
    {
     "data": {
      "text/html": [
       "<div>\n",
       "<table border=\"1\" class=\"dataframe\">\n",
       "  <thead>\n",
       "    <tr style=\"text-align: right;\">\n",
       "      <th></th>\n",
       "      <th>caseid</th>\n",
       "      <th>weight</th>\n",
       "      <th>sample</th>\n",
       "      <th>int_date</th>\n",
       "      <th>lang</th>\n",
       "      <th>cregion</th>\n",
       "      <th>state</th>\n",
       "      <th>usr</th>\n",
       "      <th>density</th>\n",
       "      <th>form</th>\n",
       "      <th>...</th>\n",
       "      <th>party</th>\n",
       "      <th>partyln</th>\n",
       "      <th>ideo</th>\n",
       "      <th>hh1</th>\n",
       "      <th>hh3</th>\n",
       "      <th>eminuse</th>\n",
       "      <th>intmob</th>\n",
       "      <th>ql1</th>\n",
       "      <th>ql1a</th>\n",
       "      <th>qc1</th>\n",
       "    </tr>\n",
       "  </thead>\n",
       "  <tbody>\n",
       "    <tr>\n",
       "      <th>0</th>\n",
       "      <td>100003</td>\n",
       "      <td>3.285714</td>\n",
       "      <td>1</td>\n",
       "      <td>81514</td>\n",
       "      <td>1</td>\n",
       "      <td>3</td>\n",
       "      <td>37</td>\n",
       "      <td>U</td>\n",
       "      <td>3</td>\n",
       "      <td>2</td>\n",
       "      <td>...</td>\n",
       "      <td>3</td>\n",
       "      <td>1</td>\n",
       "      <td>2</td>\n",
       "      <td>9</td>\n",
       "      <td>9</td>\n",
       "      <td>1</td>\n",
       "      <td>1</td>\n",
       "      <td>1</td>\n",
       "      <td></td>\n",
       "      <td></td>\n",
       "    </tr>\n",
       "    <tr>\n",
       "      <th>1</th>\n",
       "      <td>100004</td>\n",
       "      <td>3.214286</td>\n",
       "      <td>1</td>\n",
       "      <td>81814</td>\n",
       "      <td>1</td>\n",
       "      <td>3</td>\n",
       "      <td>51</td>\n",
       "      <td>U</td>\n",
       "      <td>5</td>\n",
       "      <td>1</td>\n",
       "      <td>...</td>\n",
       "      <td>2</td>\n",
       "      <td></td>\n",
       "      <td>5</td>\n",
       "      <td>5</td>\n",
       "      <td>2</td>\n",
       "      <td>1</td>\n",
       "      <td>1</td>\n",
       "      <td>1</td>\n",
       "      <td></td>\n",
       "      <td></td>\n",
       "    </tr>\n",
       "    <tr>\n",
       "      <th>2</th>\n",
       "      <td>100014</td>\n",
       "      <td>1.857143</td>\n",
       "      <td>1</td>\n",
       "      <td>81514</td>\n",
       "      <td>1</td>\n",
       "      <td>1</td>\n",
       "      <td>36</td>\n",
       "      <td>U</td>\n",
       "      <td>5</td>\n",
       "      <td>1</td>\n",
       "      <td>...</td>\n",
       "      <td>1</td>\n",
       "      <td></td>\n",
       "      <td>2</td>\n",
       "      <td>1</td>\n",
       "      <td></td>\n",
       "      <td>1</td>\n",
       "      <td>2</td>\n",
       "      <td>1</td>\n",
       "      <td></td>\n",
       "      <td></td>\n",
       "    </tr>\n",
       "    <tr>\n",
       "      <th>3</th>\n",
       "      <td>100020</td>\n",
       "      <td>3.500000</td>\n",
       "      <td>1</td>\n",
       "      <td>81914</td>\n",
       "      <td>1</td>\n",
       "      <td>1</td>\n",
       "      <td>9</td>\n",
       "      <td>S</td>\n",
       "      <td>4</td>\n",
       "      <td>2</td>\n",
       "      <td>...</td>\n",
       "      <td>9</td>\n",
       "      <td>1</td>\n",
       "      <td>2</td>\n",
       "      <td>3</td>\n",
       "      <td>2</td>\n",
       "      <td>1</td>\n",
       "      <td>1</td>\n",
       "      <td>1</td>\n",
       "      <td></td>\n",
       "      <td></td>\n",
       "    </tr>\n",
       "    <tr>\n",
       "      <th>4</th>\n",
       "      <td>100022</td>\n",
       "      <td>3.642857</td>\n",
       "      <td>1</td>\n",
       "      <td>81814</td>\n",
       "      <td>1</td>\n",
       "      <td>2</td>\n",
       "      <td>39</td>\n",
       "      <td>S</td>\n",
       "      <td>5</td>\n",
       "      <td>1</td>\n",
       "      <td>...</td>\n",
       "      <td>1</td>\n",
       "      <td></td>\n",
       "      <td>3</td>\n",
       "      <td>2</td>\n",
       "      <td>2</td>\n",
       "      <td>1</td>\n",
       "      <td>1</td>\n",
       "      <td>1</td>\n",
       "      <td></td>\n",
       "      <td></td>\n",
       "    </tr>\n",
       "  </tbody>\n",
       "</table>\n",
       "<p>5 rows × 100 columns</p>\n",
       "</div>"
      ],
      "text/plain": [
       "   caseid    weight  sample  int_date  lang  cregion  state usr  density  \\\n",
       "0  100003  3.285714       1     81514     1        3     37   U        3   \n",
       "1  100004  3.214286       1     81814     1        3     51   U        5   \n",
       "2  100014  1.857143       1     81514     1        1     36   U        5   \n",
       "3  100020  3.500000       1     81914     1        1      9   S        4   \n",
       "4  100022  3.642857       1     81814     1        2     39   S        5   \n",
       "\n",
       "   form ...   party  partyln  ideo  hh1  hh3  eminuse intmob ql1  ql1a  qc1  \n",
       "0     2 ...       3        1     2    9    9        1      1   1             \n",
       "1     1 ...       2              5    5    2        1      1   1             \n",
       "2     1 ...       1              2    1             1      2   1             \n",
       "3     2 ...       9        1     2    3    2        1      1   1             \n",
       "4     1 ...       1              3    2    2        1      1   1             \n",
       "\n",
       "[5 rows x 100 columns]"
      ]
     },
     "execution_count": 2,
     "metadata": {},
     "output_type": "execute_result"
    },
    {
     "data": {
      "text/plain": [
       "Index(['caseid', 'weight', 'sample', 'int_date', 'lang', 'cregion', 'state',\n",
       "       'usr', 'density', 'form', 'q1', 'q2a', 'q2b', 'q2c', 'q2e', 'q2f',\n",
       "       'q2gf1', 'q2hf2', 'q3', 'q4', 'q5a', 'q5b', 'q5c', 'q6', 'q7', 'q8',\n",
       "       'q9f1', 'q9f1_code1', 'q9f1_code2', 'q9f1_code3', 'q12a', 'q12b', 'q13',\n",
       "       'q16', 'q17', 'q18', 'q20f1', 'q21af2', 'q21bf2', 'q21cf2', 'q23',\n",
       "       'q24a', 'q24b', 'q24c', 'q24d', 'q24e', 'q24f', 'q25', 'q27', 'q28',\n",
       "       'q29', 'q30', 'q32', 'q33', 'q34', 'q35', 'q37', 'q38', 'q39', 'q40',\n",
       "       'q41', 'knosct14', 'knosct15', 'knosct16', 'knosct17', 'knosct18',\n",
       "       'knosct19', 'knosct_count', 'sexz', 'agerec', 'educ2', 'scideg', 'hisp',\n",
       "       'racecmb', 'race3m1', 'race3m2', 'race3m3', 'race3m4', 'racethn',\n",
       "       'birth_hisp', 'usborn', 'marital', 'parent', 'citizen', 'relig', 'chr',\n",
       "       'born', 'attend', 'income', 'reg', 'party', 'partyln', 'ideo', 'hh1',\n",
       "       'hh3', 'eminuse', 'intmob', 'ql1', 'ql1a', 'qc1'],\n",
       "      dtype='object')"
      ]
     },
     "execution_count": 2,
     "metadata": {},
     "output_type": "execute_result"
    }
   ],
   "source": [
    "df = pd.read_csv(\"PRC_2014_sciencesurvey.csv\")\n",
    "df.head()\n",
    "df.columns"
   ]
  },
  {
   "cell_type": "code",
   "execution_count": 258,
   "metadata": {
    "collapsed": false
   },
   "outputs": [],
   "source": [
    "# which questions do I want to focus on? (~12 questions)\n",
    "# q7, q16, (q20f1, q21af2, q21bf2, q21cf2), q24a,b,c,d,e,f, q25, q33-35, q38 \n",
    "# I will choose one question first to keep the target space small (q16)\n",
    "# I can increase target space later"
   ]
  },
  {
   "cell_type": "code",
   "execution_count": 259,
   "metadata": {
    "collapsed": false
   },
   "outputs": [],
   "source": [
    "# which demographics do I want to use in model? (10 demographics)\n",
    "# cregion, usr, density, sexz, agerec, educ2, racecmb, relig, party, ideo"
   ]
  },
  {
   "cell_type": "code",
   "execution_count": null,
   "metadata": {
    "collapsed": false
   },
   "outputs": [],
   "source": []
  },
  {
   "cell_type": "markdown",
   "metadata": {
    "collapsed": false
   },
   "source": [
    "# Clean dataframe"
   ]
  },
  {
   "cell_type": "markdown",
   "metadata": {},
   "source": [
    "#### Clean demographics"
   ]
  },
  {
   "cell_type": "code",
   "execution_count": 260,
   "metadata": {
    "collapsed": false
   },
   "outputs": [
    {
     "data": {
      "text/html": [
       "<div>\n",
       "<table border=\"1\" class=\"dataframe\">\n",
       "  <thead>\n",
       "    <tr style=\"text-align: right;\">\n",
       "      <th></th>\n",
       "      <th>cregion</th>\n",
       "      <th>usr</th>\n",
       "      <th>sexz</th>\n",
       "      <th>agerec</th>\n",
       "      <th>density</th>\n",
       "      <th>racecmb</th>\n",
       "      <th>party</th>\n",
       "      <th>partyln</th>\n",
       "      <th>educ2</th>\n",
       "      <th>relig</th>\n",
       "      <th>...</th>\n",
       "      <th>q24b</th>\n",
       "      <th>q24c</th>\n",
       "      <th>q24d</th>\n",
       "      <th>q24e</th>\n",
       "      <th>q24f</th>\n",
       "      <th>q25</th>\n",
       "      <th>q33</th>\n",
       "      <th>q34</th>\n",
       "      <th>q35</th>\n",
       "      <th>q38</th>\n",
       "    </tr>\n",
       "  </thead>\n",
       "  <tbody>\n",
       "    <tr>\n",
       "      <th>0</th>\n",
       "      <td>3</td>\n",
       "      <td>U</td>\n",
       "      <td>2</td>\n",
       "      <td>65</td>\n",
       "      <td>3</td>\n",
       "      <td>1</td>\n",
       "      <td>3</td>\n",
       "      <td>1</td>\n",
       "      <td>6</td>\n",
       "      <td>1</td>\n",
       "      <td>...</td>\n",
       "      <td>1</td>\n",
       "      <td>1</td>\n",
       "      <td>1</td>\n",
       "      <td>1</td>\n",
       "      <td>1</td>\n",
       "      <td>2</td>\n",
       "      <td>2</td>\n",
       "      <td>2</td>\n",
       "      <td>2</td>\n",
       "      <td>1</td>\n",
       "    </tr>\n",
       "    <tr>\n",
       "      <th>1</th>\n",
       "      <td>3</td>\n",
       "      <td>U</td>\n",
       "      <td>2</td>\n",
       "      <td>24</td>\n",
       "      <td>5</td>\n",
       "      <td>1</td>\n",
       "      <td>2</td>\n",
       "      <td></td>\n",
       "      <td>8</td>\n",
       "      <td>5</td>\n",
       "      <td>...</td>\n",
       "      <td>2</td>\n",
       "      <td>2</td>\n",
       "      <td>1</td>\n",
       "      <td>2</td>\n",
       "      <td>1</td>\n",
       "      <td>1</td>\n",
       "      <td>2</td>\n",
       "      <td>1</td>\n",
       "      <td>2</td>\n",
       "      <td>2</td>\n",
       "    </tr>\n",
       "    <tr>\n",
       "      <th>2</th>\n",
       "      <td>1</td>\n",
       "      <td>U</td>\n",
       "      <td>2</td>\n",
       "      <td>99</td>\n",
       "      <td>5</td>\n",
       "      <td>1</td>\n",
       "      <td>1</td>\n",
       "      <td></td>\n",
       "      <td>4</td>\n",
       "      <td>2</td>\n",
       "      <td>...</td>\n",
       "      <td>9</td>\n",
       "      <td>1</td>\n",
       "      <td>1</td>\n",
       "      <td>9</td>\n",
       "      <td>1</td>\n",
       "      <td>1</td>\n",
       "      <td>2</td>\n",
       "      <td>9</td>\n",
       "      <td>1</td>\n",
       "      <td>1</td>\n",
       "    </tr>\n",
       "    <tr>\n",
       "      <th>3</th>\n",
       "      <td>1</td>\n",
       "      <td>S</td>\n",
       "      <td>2</td>\n",
       "      <td>45</td>\n",
       "      <td>4</td>\n",
       "      <td>1</td>\n",
       "      <td>9</td>\n",
       "      <td>1</td>\n",
       "      <td>8</td>\n",
       "      <td>2</td>\n",
       "      <td>...</td>\n",
       "      <td>1</td>\n",
       "      <td>2</td>\n",
       "      <td>2</td>\n",
       "      <td>2</td>\n",
       "      <td>1</td>\n",
       "      <td>1</td>\n",
       "      <td>2</td>\n",
       "      <td>1</td>\n",
       "      <td>2</td>\n",
       "      <td>1</td>\n",
       "    </tr>\n",
       "    <tr>\n",
       "      <th>4</th>\n",
       "      <td>2</td>\n",
       "      <td>S</td>\n",
       "      <td>1</td>\n",
       "      <td>21</td>\n",
       "      <td>5</td>\n",
       "      <td>1</td>\n",
       "      <td>1</td>\n",
       "      <td></td>\n",
       "      <td>3</td>\n",
       "      <td>2</td>\n",
       "      <td>...</td>\n",
       "      <td>2</td>\n",
       "      <td>2</td>\n",
       "      <td>2</td>\n",
       "      <td>2</td>\n",
       "      <td>1</td>\n",
       "      <td>2</td>\n",
       "      <td>2</td>\n",
       "      <td>1</td>\n",
       "      <td>2</td>\n",
       "      <td>9</td>\n",
       "    </tr>\n",
       "  </tbody>\n",
       "</table>\n",
       "<p>5 rows × 29 columns</p>\n",
       "</div>"
      ],
      "text/plain": [
       "   cregion usr  sexz  agerec  density  racecmb  party partyln  educ2  relig  \\\n",
       "0        3   U     2      65        3        1      3       1      6      1   \n",
       "1        3   U     2      24        5        1      2              8      5   \n",
       "2        1   U     2      99        5        1      1              4      2   \n",
       "3        1   S     2      45        4        1      9       1      8      2   \n",
       "4        2   S     1      21        5        1      1              3      2   \n",
       "\n",
       "  ...   q24b  q24c  q24d  q24e q24f q25 q33 q34  q35  q38  \n",
       "0 ...      1     1     1     1    1   2   2   2    2    1  \n",
       "1 ...      2     2     1     2    1   1   2   1    2    2  \n",
       "2 ...      9     1     1     9    1   1   2   9    1    1  \n",
       "3 ...      1     2     2     2    1   1   2   1    2    1  \n",
       "4 ...      2     2     2     2    1   2   2   1    2    9  \n",
       "\n",
       "[5 rows x 29 columns]"
      ]
     },
     "execution_count": 260,
     "metadata": {},
     "output_type": "execute_result"
    }
   ],
   "source": [
    "# the dataframe has too many columns to work with in an efficient way,\n",
    "# so keep only columns of particular interest\n",
    "df2 = df[['cregion', 'usr', 'sexz', 'agerec', 'density', 'racecmb', \n",
    "           'party', 'partyln', 'educ2', 'relig', 'ideo', 'income', \n",
    "           'q7', 'q16', 'q20f1', 'q21af2', 'q21bf2', 'q21cf2',\n",
    "           'q24a', 'q24b', 'q24c', 'q24d', 'q24e', 'q24f', 'q25', \n",
    "           'q33', 'q34', 'q35', 'q38']]\n",
    "df2.head()"
   ]
  },
  {
   "cell_type": "code",
   "execution_count": null,
   "metadata": {
    "collapsed": false
   },
   "outputs": [],
   "source": []
  },
  {
   "cell_type": "code",
   "execution_count": 261,
   "metadata": {
    "collapsed": false
   },
   "outputs": [
    {
     "data": {
      "text/plain": [
       "1    285\n",
       "2    334\n",
       "3    897\n",
       "4    486\n",
       "Name: cregion, dtype: int64"
      ]
     },
     "execution_count": 261,
     "metadata": {},
     "output_type": "execute_result"
    }
   ],
   "source": [
    "# check values of 'cregion'\n",
    "feature = 'cregion'\n",
    "df2[feature].value_counts().sort_index()"
   ]
  },
  {
   "cell_type": "code",
   "execution_count": 262,
   "metadata": {
    "collapsed": true
   },
   "outputs": [],
   "source": [
    "# this seems to prevent warnings about setting values to copy of dataframe slice\n",
    "df2 = df2.copy()"
   ]
  },
  {
   "cell_type": "code",
   "execution_count": 264,
   "metadata": {
    "collapsed": false
   },
   "outputs": [
    {
     "data": {
      "text/html": [
       "<div>\n",
       "<table border=\"1\" class=\"dataframe\">\n",
       "  <thead>\n",
       "    <tr style=\"text-align: right;\">\n",
       "      <th></th>\n",
       "      <th>cregion</th>\n",
       "      <th>usr</th>\n",
       "      <th>sexz</th>\n",
       "      <th>agerec</th>\n",
       "      <th>density</th>\n",
       "      <th>racecmb</th>\n",
       "      <th>party</th>\n",
       "      <th>partyln</th>\n",
       "      <th>educ2</th>\n",
       "      <th>relig</th>\n",
       "      <th>...</th>\n",
       "      <th>q24e</th>\n",
       "      <th>q24f</th>\n",
       "      <th>q25</th>\n",
       "      <th>q33</th>\n",
       "      <th>q34</th>\n",
       "      <th>q35</th>\n",
       "      <th>q38</th>\n",
       "      <th>R</th>\n",
       "      <th>S</th>\n",
       "      <th>U</th>\n",
       "    </tr>\n",
       "  </thead>\n",
       "  <tbody>\n",
       "    <tr>\n",
       "      <th>0</th>\n",
       "      <td>3</td>\n",
       "      <td>U</td>\n",
       "      <td>2</td>\n",
       "      <td>65</td>\n",
       "      <td>3</td>\n",
       "      <td>1</td>\n",
       "      <td>3</td>\n",
       "      <td>1</td>\n",
       "      <td>6</td>\n",
       "      <td>1</td>\n",
       "      <td>...</td>\n",
       "      <td>1</td>\n",
       "      <td>1</td>\n",
       "      <td>2</td>\n",
       "      <td>2</td>\n",
       "      <td>2</td>\n",
       "      <td>2</td>\n",
       "      <td>1</td>\n",
       "      <td>0.0</td>\n",
       "      <td>0.0</td>\n",
       "      <td>1.0</td>\n",
       "    </tr>\n",
       "    <tr>\n",
       "      <th>1</th>\n",
       "      <td>3</td>\n",
       "      <td>U</td>\n",
       "      <td>2</td>\n",
       "      <td>24</td>\n",
       "      <td>5</td>\n",
       "      <td>1</td>\n",
       "      <td>2</td>\n",
       "      <td></td>\n",
       "      <td>8</td>\n",
       "      <td>5</td>\n",
       "      <td>...</td>\n",
       "      <td>2</td>\n",
       "      <td>1</td>\n",
       "      <td>1</td>\n",
       "      <td>2</td>\n",
       "      <td>1</td>\n",
       "      <td>2</td>\n",
       "      <td>2</td>\n",
       "      <td>0.0</td>\n",
       "      <td>0.0</td>\n",
       "      <td>1.0</td>\n",
       "    </tr>\n",
       "    <tr>\n",
       "      <th>2</th>\n",
       "      <td>1</td>\n",
       "      <td>U</td>\n",
       "      <td>2</td>\n",
       "      <td>99</td>\n",
       "      <td>5</td>\n",
       "      <td>1</td>\n",
       "      <td>1</td>\n",
       "      <td></td>\n",
       "      <td>4</td>\n",
       "      <td>2</td>\n",
       "      <td>...</td>\n",
       "      <td>9</td>\n",
       "      <td>1</td>\n",
       "      <td>1</td>\n",
       "      <td>2</td>\n",
       "      <td>9</td>\n",
       "      <td>1</td>\n",
       "      <td>1</td>\n",
       "      <td>0.0</td>\n",
       "      <td>0.0</td>\n",
       "      <td>1.0</td>\n",
       "    </tr>\n",
       "    <tr>\n",
       "      <th>3</th>\n",
       "      <td>1</td>\n",
       "      <td>S</td>\n",
       "      <td>2</td>\n",
       "      <td>45</td>\n",
       "      <td>4</td>\n",
       "      <td>1</td>\n",
       "      <td>9</td>\n",
       "      <td>1</td>\n",
       "      <td>8</td>\n",
       "      <td>2</td>\n",
       "      <td>...</td>\n",
       "      <td>2</td>\n",
       "      <td>1</td>\n",
       "      <td>1</td>\n",
       "      <td>2</td>\n",
       "      <td>1</td>\n",
       "      <td>2</td>\n",
       "      <td>1</td>\n",
       "      <td>0.0</td>\n",
       "      <td>1.0</td>\n",
       "      <td>0.0</td>\n",
       "    </tr>\n",
       "    <tr>\n",
       "      <th>4</th>\n",
       "      <td>2</td>\n",
       "      <td>S</td>\n",
       "      <td>1</td>\n",
       "      <td>21</td>\n",
       "      <td>5</td>\n",
       "      <td>1</td>\n",
       "      <td>1</td>\n",
       "      <td></td>\n",
       "      <td>3</td>\n",
       "      <td>2</td>\n",
       "      <td>...</td>\n",
       "      <td>2</td>\n",
       "      <td>1</td>\n",
       "      <td>2</td>\n",
       "      <td>2</td>\n",
       "      <td>1</td>\n",
       "      <td>2</td>\n",
       "      <td>9</td>\n",
       "      <td>0.0</td>\n",
       "      <td>1.0</td>\n",
       "      <td>0.0</td>\n",
       "    </tr>\n",
       "  </tbody>\n",
       "</table>\n",
       "<p>5 rows × 32 columns</p>\n",
       "</div>"
      ],
      "text/plain": [
       "   cregion usr  sexz  agerec  density  racecmb  party partyln  educ2  relig  \\\n",
       "0        3   U     2      65        3        1      3       1      6      1   \n",
       "1        3   U     2      24        5        1      2              8      5   \n",
       "2        1   U     2      99        5        1      1              4      2   \n",
       "3        1   S     2      45        4        1      9       1      8      2   \n",
       "4        2   S     1      21        5        1      1              3      2   \n",
       "\n",
       "  ...   q24e  q24f  q25  q33 q34 q35 q38    R    S    U  \n",
       "0 ...      1     1    2    2   2   2   1  0.0  0.0  1.0  \n",
       "1 ...      2     1    1    2   1   2   2  0.0  0.0  1.0  \n",
       "2 ...      9     1    1    2   9   1   1  0.0  0.0  1.0  \n",
       "3 ...      2     1    1    2   1   2   1  0.0  1.0  0.0  \n",
       "4 ...      2     1    2    2   1   2   9  0.0  1.0  0.0  \n",
       "\n",
       "[5 rows x 32 columns]"
      ]
     },
     "execution_count": 264,
     "metadata": {},
     "output_type": "execute_result"
    }
   ],
   "source": [
    "# convert 'usr' feature to dummies\n",
    "df2[['R', 'S', 'U']] = pd.get_dummies(df2['usr'])\n",
    "df2.head()"
   ]
  },
  {
   "cell_type": "markdown",
   "metadata": {},
   "source": [
    "#### The entry '99' has been used when no answer is provided. We can use this for the mean time instead of NaN."
   ]
  },
  {
   "cell_type": "code",
   "execution_count": 265,
   "metadata": {
    "collapsed": false
   },
   "outputs": [
    {
     "data": {
      "text/plain": [
       "1    1007\n",
       "2     991\n",
       "3       1\n",
       "8       2\n",
       "9       1\n",
       "Name: sexz, dtype: int64"
      ]
     },
     "execution_count": 265,
     "metadata": {},
     "output_type": "execute_result"
    }
   ],
   "source": [
    "# replace non-answers with 99 for sexz\n",
    "feature = 'sexz'\n",
    "df2[feature].value_counts().sort_index()\n",
    "df2.loc[df2[feature]>2, feature] = 99"
   ]
  },
  {
   "cell_type": "code",
   "execution_count": null,
   "metadata": {
    "collapsed": false
   },
   "outputs": [],
   "source": []
  },
  {
   "cell_type": "code",
   "execution_count": 266,
   "metadata": {
    "collapsed": false
   },
   "outputs": [],
   "source": [
    "# agerec is fine"
   ]
  },
  {
   "cell_type": "code",
   "execution_count": 267,
   "metadata": {
    "collapsed": false
   },
   "outputs": [
    {
     "data": {
      "text/plain": [
       "1    318\n",
       "2    335\n",
       "3    374\n",
       "4    424\n",
       "5    551\n",
       "Name: density, dtype: int64"
      ]
     },
     "execution_count": 267,
     "metadata": {},
     "output_type": "execute_result"
    }
   ],
   "source": [
    "# check values of 'density'\n",
    "feature = 'density'\n",
    "df2[feature].value_counts().sort_index()"
   ]
  },
  {
   "cell_type": "code",
   "execution_count": 268,
   "metadata": {
    "collapsed": false
   },
   "outputs": [
    {
     "data": {
      "text/plain": [
       "1    1358\n",
       "2     275\n",
       "3      72\n",
       "4      78\n",
       "5     184\n",
       "9      35\n",
       "Name: racecmb, dtype: int64"
      ]
     },
     "execution_count": 268,
     "metadata": {},
     "output_type": "execute_result"
    }
   ],
   "source": [
    "# replace non-answers with 99 for 'racecmb'\n",
    "feature = 'racecmb'\n",
    "df2[feature].value_counts().sort_index()\n",
    "df2.loc[df2[feature]>5, feature] = 99"
   ]
  },
  {
   "cell_type": "code",
   "execution_count": 269,
   "metadata": {
    "collapsed": false
   },
   "outputs": [
    {
     "data": {
      "text/plain": [
       "1    454\n",
       "2    666\n",
       "3    737\n",
       "4     82\n",
       "5      7\n",
       "9     56\n",
       "Name: party, dtype: int64"
      ]
     },
     "execution_count": 269,
     "metadata": {},
     "output_type": "execute_result"
    }
   ],
   "source": [
    "# keep only R,D,I for 'party'; make rest 99\n",
    "feature = 'party'\n",
    "df2[feature].value_counts().sort_index()\n",
    "df2.loc[df2[feature]>3, feature] = 99"
   ]
  },
  {
   "cell_type": "code",
   "execution_count": null,
   "metadata": {
    "collapsed": false
   },
   "outputs": [],
   "source": []
  },
  {
   "cell_type": "code",
   "execution_count": 270,
   "metadata": {
    "collapsed": false
   },
   "outputs": [
    {
     "data": {
      "text/plain": [
       "     1120\n",
       "1     283\n",
       "2     293\n",
       "9     306\n",
       "Name: partyln, dtype: int64"
      ]
     },
     "execution_count": 270,
     "metadata": {},
     "output_type": "execute_result"
    }
   ],
   "source": [
    "# ignore 'partyln'\n",
    "feature = 'partyln'\n",
    "df2[feature].value_counts().sort_index()"
   ]
  },
  {
   "cell_type": "code",
   "execution_count": 271,
   "metadata": {
    "collapsed": false
   },
   "outputs": [
    {
     "data": {
      "text/plain": [
       "1     74\n",
       "2     87\n",
       "3    537\n",
       "4    283\n",
       "5    199\n",
       "6    425\n",
       "7     32\n",
       "8    356\n",
       "9      9\n",
       "Name: educ2, dtype: int64"
      ]
     },
     "execution_count": 271,
     "metadata": {},
     "output_type": "execute_result"
    }
   ],
   "source": [
    "# replace non-answers with 99 for educ2\n",
    "feature = 'educ2'\n",
    "df2[feature].value_counts().sort_index()\n",
    "df2.loc[df2[feature]>8, feature] = 99"
   ]
  },
  {
   "cell_type": "code",
   "execution_count": 272,
   "metadata": {
    "collapsed": false
   },
   "outputs": [
    {
     "data": {
      "text/plain": [
       "1     746\n",
       "2     448\n",
       "3      23\n",
       "4      11\n",
       "5      54\n",
       "6      17\n",
       "7      14\n",
       "8      18\n",
       "9      88\n",
       "10     75\n",
       "11     34\n",
       "12    256\n",
       "13    165\n",
       "14      6\n",
       "15     12\n",
       "99     35\n",
       "Name: relig, dtype: int64"
      ]
     },
     "execution_count": 272,
     "metadata": {},
     "output_type": "execute_result"
    }
   ],
   "source": [
    "# comeback to relig\n",
    "feature = 'relig'\n",
    "df2[feature].value_counts().sort_index()"
   ]
  },
  {
   "cell_type": "code",
   "execution_count": 273,
   "metadata": {
    "collapsed": false
   },
   "outputs": [
    {
     "data": {
      "text/plain": [
       "1    127\n",
       "2    571\n",
       "3    721\n",
       "4    371\n",
       "5    125\n",
       "9     87\n",
       "Name: ideo, dtype: int64"
      ]
     },
     "execution_count": 273,
     "metadata": {},
     "output_type": "execute_result"
    }
   ],
   "source": [
    "# replace non-answers with 99 for ideo\n",
    "feature = 'ideo'\n",
    "df2[feature].value_counts().sort_index()\n",
    "df2.loc[df2[feature]>5, feature] = 99"
   ]
  },
  {
   "cell_type": "code",
   "execution_count": 274,
   "metadata": {
    "collapsed": false
   },
   "outputs": [
    {
     "data": {
      "text/plain": [
       "1     166\n",
       "2     226\n",
       "3     209\n",
       "4     200\n",
       "5     150\n",
       "6     255\n",
       "7     186\n",
       "8     199\n",
       "9     191\n",
       "10    220\n",
       "Name: income, dtype: int64"
      ]
     },
     "execution_count": 274,
     "metadata": {},
     "output_type": "execute_result"
    }
   ],
   "source": [
    "# replace non-answers with 99 for income\n",
    "feature = 'income'\n",
    "df2[feature].value_counts().sort_index()\n",
    "df2.loc[df2[feature]>9, feature] = 99"
   ]
  },
  {
   "cell_type": "markdown",
   "metadata": {
    "collapsed": true
   },
   "source": [
    "#### Clean questions"
   ]
  },
  {
   "cell_type": "code",
   "execution_count": 275,
   "metadata": {
    "collapsed": false
   },
   "outputs": [
    {
     "data": {
      "text/plain": [
       "Index(['cregion', 'usr', 'sexz', 'agerec', 'density', 'racecmb', 'party',\n",
       "       'partyln', 'educ2', 'relig', 'ideo', 'income', 'q7', 'q16', 'q20f1',\n",
       "       'q21af2', 'q21bf2', 'q21cf2', 'q24a', 'q24b', 'q24c', 'q24d', 'q24e',\n",
       "       'q24f', 'q25', 'q33', 'q34', 'q35', 'q38', 'R', 'S', 'U'],\n",
       "      dtype='object')"
      ]
     },
     "execution_count": 275,
     "metadata": {},
     "output_type": "execute_result"
    }
   ],
   "source": [
    "df2.columns"
   ]
  },
  {
   "cell_type": "code",
   "execution_count": null,
   "metadata": {
    "collapsed": false
   },
   "outputs": [],
   "source": []
  },
  {
   "cell_type": "code",
   "execution_count": 276,
   "metadata": {
    "collapsed": false
   },
   "outputs": [
    {
     "data": {
      "text/plain": [
       "1    1100\n",
       "2     830\n",
       "9      72\n",
       "Name: q7, dtype: int64"
      ]
     },
     "execution_count": 276,
     "metadata": {},
     "output_type": "execute_result"
    }
   ],
   "source": [
    "# check 'q7'\n",
    "question = 'q7'\n",
    "df2[question].value_counts().sort_index()\n",
    "#df2.loc[df2[question]==9, question] = 99\n",
    "df2.loc[:,question] = df2.loc[:,question].map({1:1, 2:0, 9:99})"
   ]
  },
  {
   "cell_type": "code",
   "execution_count": null,
   "metadata": {
    "collapsed": false
   },
   "outputs": [],
   "source": []
  },
  {
   "cell_type": "code",
   "execution_count": 277,
   "metadata": {
    "collapsed": false
   },
   "outputs": [
    {
     "data": {
      "text/plain": [
       "1    1326\n",
       "2     595\n",
       "9      81\n",
       "Name: q16, dtype: int64"
      ]
     },
     "execution_count": 277,
     "metadata": {},
     "output_type": "execute_result"
    }
   ],
   "source": [
    "# response 9 means 'don't know'; only 4% of responses => drop rows with response 9\n",
    "# change 'q16' responses of 2 to 0\n",
    "# problem is then a binary classification problem\n",
    "\n",
    "question = 'q16'\n",
    "df2[question].value_counts().sort_index()\n",
    "df2.loc[:,question] = df2.loc[:,question].map({1:1, 2:0, 9:99})"
   ]
  },
  {
   "cell_type": "code",
   "execution_count": 278,
   "metadata": {
    "collapsed": false
   },
   "outputs": [],
   "source": [
    "# combine 'q20f1', 'q21af2', 'q21bf2', 'q21cf2'"
   ]
  },
  {
   "cell_type": "code",
   "execution_count": 279,
   "metadata": {
    "collapsed": false
   },
   "outputs": [
    {
     "data": {
      "text/html": [
       "<div>\n",
       "<table border=\"1\" class=\"dataframe\">\n",
       "  <thead>\n",
       "    <tr style=\"text-align: right;\">\n",
       "      <th></th>\n",
       "      <th>q20f1</th>\n",
       "      <th>q21af2</th>\n",
       "    </tr>\n",
       "  </thead>\n",
       "  <tbody>\n",
       "    <tr>\n",
       "      <th>0</th>\n",
       "      <td></td>\n",
       "      <td>2</td>\n",
       "    </tr>\n",
       "    <tr>\n",
       "      <th>1</th>\n",
       "      <td>2</td>\n",
       "      <td></td>\n",
       "    </tr>\n",
       "    <tr>\n",
       "      <th>2</th>\n",
       "      <td>3</td>\n",
       "      <td></td>\n",
       "    </tr>\n",
       "    <tr>\n",
       "      <th>3</th>\n",
       "      <td></td>\n",
       "      <td>2</td>\n",
       "    </tr>\n",
       "    <tr>\n",
       "      <th>4</th>\n",
       "      <td>3</td>\n",
       "      <td></td>\n",
       "    </tr>\n",
       "  </tbody>\n",
       "</table>\n",
       "</div>"
      ],
      "text/plain": [
       "  q20f1 q21af2\n",
       "0            2\n",
       "1     2       \n",
       "2     3       \n",
       "3            2\n",
       "4     3       "
      ]
     },
     "execution_count": 279,
     "metadata": {},
     "output_type": "execute_result"
    },
    {
     "data": {
      "text/html": [
       "<div>\n",
       "<table border=\"1\" class=\"dataframe\">\n",
       "  <thead>\n",
       "    <tr style=\"text-align: right;\">\n",
       "      <th></th>\n",
       "      <th>q20f1</th>\n",
       "      <th>q21af2</th>\n",
       "    </tr>\n",
       "  </thead>\n",
       "  <tbody>\n",
       "    <tr>\n",
       "      <th>0</th>\n",
       "      <td>99</td>\n",
       "      <td>0</td>\n",
       "    </tr>\n",
       "    <tr>\n",
       "      <th>1</th>\n",
       "      <td>1</td>\n",
       "      <td>99</td>\n",
       "    </tr>\n",
       "    <tr>\n",
       "      <th>2</th>\n",
       "      <td>0</td>\n",
       "      <td>99</td>\n",
       "    </tr>\n",
       "    <tr>\n",
       "      <th>3</th>\n",
       "      <td>99</td>\n",
       "      <td>0</td>\n",
       "    </tr>\n",
       "    <tr>\n",
       "      <th>4</th>\n",
       "      <td>0</td>\n",
       "      <td>99</td>\n",
       "    </tr>\n",
       "  </tbody>\n",
       "</table>\n",
       "</div>"
      ],
      "text/plain": [
       "   q20f1  q21af2\n",
       "0     99       0\n",
       "1      1      99\n",
       "2      0      99\n",
       "3     99       0\n",
       "4      0      99"
      ]
     },
     "execution_count": 279,
     "metadata": {},
     "output_type": "execute_result"
    }
   ],
   "source": [
    "# create new column 'q20_21' where 1 = solid evidence for global warming, 0 = not\n",
    "#\n",
    "# map values to 1,0 and replace 9,' ' with 99\n",
    "df2[['q20f1', 'q21af2']].head()\n",
    "df2.loc[:,'q20f1'] = df2['q20f1'].map({'1':1, '2':1, '3':0, '9':99, ' ':99}).astype(int)\n",
    "df2.loc[:,'q21af2'] = df2['q21af2'].map({'1':1, '2':0, '3':99, '9':99,' ':99}).astype(int)\n",
    "df2[['q20f1', 'q21af2']].head()"
   ]
  },
  {
   "cell_type": "code",
   "execution_count": 280,
   "metadata": {
    "collapsed": false
   },
   "outputs": [
    {
     "data": {
      "text/html": [
       "<div>\n",
       "<table border=\"1\" class=\"dataframe\">\n",
       "  <thead>\n",
       "    <tr style=\"text-align: right;\">\n",
       "      <th></th>\n",
       "      <th>q20f1</th>\n",
       "      <th>q21af2</th>\n",
       "      <th>q20_21</th>\n",
       "    </tr>\n",
       "  </thead>\n",
       "  <tbody>\n",
       "    <tr>\n",
       "      <th>0</th>\n",
       "      <td>99</td>\n",
       "      <td>0</td>\n",
       "      <td>0</td>\n",
       "    </tr>\n",
       "    <tr>\n",
       "      <th>1</th>\n",
       "      <td>1</td>\n",
       "      <td>99</td>\n",
       "      <td>1</td>\n",
       "    </tr>\n",
       "    <tr>\n",
       "      <th>2</th>\n",
       "      <td>0</td>\n",
       "      <td>99</td>\n",
       "      <td>0</td>\n",
       "    </tr>\n",
       "    <tr>\n",
       "      <th>3</th>\n",
       "      <td>99</td>\n",
       "      <td>0</td>\n",
       "      <td>0</td>\n",
       "    </tr>\n",
       "    <tr>\n",
       "      <th>4</th>\n",
       "      <td>0</td>\n",
       "      <td>99</td>\n",
       "      <td>0</td>\n",
       "    </tr>\n",
       "  </tbody>\n",
       "</table>\n",
       "</div>"
      ],
      "text/plain": [
       "   q20f1  q21af2  q20_21\n",
       "0     99       0       0\n",
       "1      1      99       1\n",
       "2      0      99       0\n",
       "3     99       0       0\n",
       "4      0      99       0"
      ]
     },
     "execution_count": 280,
     "metadata": {},
     "output_type": "execute_result"
    }
   ],
   "source": [
    "df2['q20_21'] = df2.apply(lambda x: x['q20f1'] if x['q21af2'] == 99 else x['q21af2'], axis=1)\n",
    "df2[['q20f1', 'q21af2', 'q20_21']].head()"
   ]
  },
  {
   "cell_type": "code",
   "execution_count": 281,
   "metadata": {
    "collapsed": false
   },
   "outputs": [
    {
     "data": {
      "text/plain": [
       "1    996\n",
       "2    933\n",
       "9     73\n",
       "Name: q24a, dtype: int64"
      ]
     },
     "execution_count": 281,
     "metadata": {},
     "output_type": "execute_result"
    }
   ],
   "source": [
    "# check 'q24a'\n",
    "question = 'q24a'\n",
    "df2[question].value_counts().sort_index()\n",
    "df2.loc[:,question] = df2.loc[:,question].map({1:1, 2:0, 9:99})"
   ]
  },
  {
   "cell_type": "code",
   "execution_count": 282,
   "metadata": {
    "collapsed": false
   },
   "outputs": [
    {
     "data": {
      "text/plain": [
       "1    960\n",
       "2    956\n",
       "9     86\n",
       "Name: q24b, dtype: int64"
      ]
     },
     "execution_count": 282,
     "metadata": {},
     "output_type": "execute_result"
    }
   ],
   "source": [
    "# check 'q24b'\n",
    "question = 'q24b'\n",
    "df2[question].value_counts().sort_index()\n",
    "df2.loc[:,question] = df2.loc[:,question].map({1:1, 2:0, 9:99})"
   ]
  },
  {
   "cell_type": "code",
   "execution_count": 283,
   "metadata": {
    "collapsed": false
   },
   "outputs": [
    {
     "data": {
      "text/plain": [
       "1     818\n",
       "2    1002\n",
       "9     182\n",
       "Name: q24c, dtype: int64"
      ]
     },
     "execution_count": 283,
     "metadata": {},
     "output_type": "execute_result"
    }
   ],
   "source": [
    "# check 'q24c'\n",
    "question = 'q24c'\n",
    "df2[question].value_counts().sort_index()\n",
    "df2.loc[:,question] = df2.loc[:,question].map({1:1, 2:0, 9:99})"
   ]
  },
  {
   "cell_type": "code",
   "execution_count": 284,
   "metadata": {
    "collapsed": false
   },
   "outputs": [
    {
     "data": {
      "text/plain": [
       "1    1375\n",
       "2     512\n",
       "9     115\n",
       "Name: q24d, dtype: int64"
      ]
     },
     "execution_count": 284,
     "metadata": {},
     "output_type": "execute_result"
    }
   ],
   "source": [
    "# check 'q24d'\n",
    "question = 'q24d'\n",
    "df2[question].value_counts().sort_index()\n",
    "df2.loc[:,question] = df2.loc[:,question].map({1:1, 2:0, 9:99})"
   ]
  },
  {
   "cell_type": "code",
   "execution_count": 285,
   "metadata": {
    "collapsed": false
   },
   "outputs": [
    {
     "data": {
      "text/plain": [
       "1    1045\n",
       "2     877\n",
       "9      80\n",
       "Name: q24e, dtype: int64"
      ]
     },
     "execution_count": 285,
     "metadata": {},
     "output_type": "execute_result"
    }
   ],
   "source": [
    "# check 'q24e'\n",
    "question = 'q24e'\n",
    "df2[question].value_counts().sort_index()\n",
    "df2.loc[:,question] = df2.loc[:,question].map({1:1, 2:0, 9:99})"
   ]
  },
  {
   "cell_type": "code",
   "execution_count": 286,
   "metadata": {
    "collapsed": false
   },
   "outputs": [
    {
     "data": {
      "text/plain": [
       "1    1092\n",
       "2     832\n",
       "9      78\n",
       "Name: q24f, dtype: int64"
      ]
     },
     "execution_count": 286,
     "metadata": {},
     "output_type": "execute_result"
    }
   ],
   "source": [
    "# check 'q24f'\n",
    "question = 'q24f'\n",
    "df2[question].value_counts().sort_index()\n",
    "df2.loc[:,question] = df2.loc[:,question].map({1:1, 2:0, 9:99})"
   ]
  },
  {
   "cell_type": "code",
   "execution_count": 287,
   "metadata": {
    "collapsed": false
   },
   "outputs": [
    {
     "data": {
      "text/plain": [
       "1     564\n",
       "2    1404\n",
       "9      34\n",
       "Name: q25, dtype: int64"
      ]
     },
     "execution_count": 287,
     "metadata": {},
     "output_type": "execute_result"
    }
   ],
   "source": [
    "# check 'q25'\n",
    "question = 'q25'\n",
    "df2[question].value_counts().sort_index()\n",
    "df2.loc[:,question] = df2.loc[:,question].map({1:1, 2:0, 9:99})"
   ]
  },
  {
   "cell_type": "code",
   "execution_count": 288,
   "metadata": {
    "collapsed": false
   },
   "outputs": [
    {
     "data": {
      "text/plain": [
       "1     306\n",
       "2    1653\n",
       "9      43\n",
       "Name: q33, dtype: int64"
      ]
     },
     "execution_count": 288,
     "metadata": {},
     "output_type": "execute_result"
    }
   ],
   "source": [
    "# check 'q33'\n",
    "question = 'q33'\n",
    "df2[question].value_counts().sort_index()\n",
    "df2.loc[:,question] = df2.loc[:,question].map({1:1, 2:0, 9:99})"
   ]
  },
  {
   "cell_type": "code",
   "execution_count": 289,
   "metadata": {
    "collapsed": false
   },
   "outputs": [
    {
     "data": {
      "text/plain": [
       "1    928\n",
       "2    983\n",
       "9     91\n",
       "Name: q34, dtype: int64"
      ]
     },
     "execution_count": 289,
     "metadata": {},
     "output_type": "execute_result"
    }
   ],
   "source": [
    "# check 'q34'\n",
    "question = 'q34'\n",
    "df2[question].value_counts().sort_index()\n",
    "df2.loc[:,question] = df2.loc[:,question].map({1:1, 2:0, 9:99})"
   ]
  },
  {
   "cell_type": "code",
   "execution_count": 290,
   "metadata": {
    "collapsed": false
   },
   "outputs": [
    {
     "data": {
      "text/plain": [
       "1     574\n",
       "2    1366\n",
       "9      62\n",
       "Name: q35, dtype: int64"
      ]
     },
     "execution_count": 290,
     "metadata": {},
     "output_type": "execute_result"
    }
   ],
   "source": [
    "# check 'q35'\n",
    "question = 'q35'\n",
    "df2[question].value_counts().sort_index()\n",
    "df2.loc[:,question] = df2.loc[:,question].map({1:1, 2:0, 9:99})"
   ]
  },
  {
   "cell_type": "code",
   "execution_count": 291,
   "metadata": {
    "collapsed": false
   },
   "outputs": [
    {
     "data": {
      "text/plain": [
       "1     786\n",
       "2    1098\n",
       "9     118\n",
       "Name: q38, dtype: int64"
      ]
     },
     "execution_count": 291,
     "metadata": {},
     "output_type": "execute_result"
    }
   ],
   "source": [
    "# check 'q38'\n",
    "question = 'q38'\n",
    "df2[question].value_counts().sort_index()\n",
    "df2.loc[:,question] = df2.loc[:,question].map({1:1, 2:0, 9:99})"
   ]
  },
  {
   "cell_type": "markdown",
   "metadata": {},
   "source": [
    "# Logistic Regression"
   ]
  },
  {
   "cell_type": "code",
   "execution_count": 292,
   "metadata": {
    "collapsed": false
   },
   "outputs": [
    {
     "data": {
      "text/html": [
       "<div>\n",
       "<table border=\"1\" class=\"dataframe\">\n",
       "  <thead>\n",
       "    <tr style=\"text-align: right;\">\n",
       "      <th></th>\n",
       "      <th>cregion</th>\n",
       "      <th>usr</th>\n",
       "      <th>sexz</th>\n",
       "      <th>agerec</th>\n",
       "      <th>density</th>\n",
       "      <th>racecmb</th>\n",
       "      <th>party</th>\n",
       "      <th>partyln</th>\n",
       "      <th>educ2</th>\n",
       "      <th>relig</th>\n",
       "      <th>...</th>\n",
       "      <th>q24f</th>\n",
       "      <th>q25</th>\n",
       "      <th>q33</th>\n",
       "      <th>q34</th>\n",
       "      <th>q35</th>\n",
       "      <th>q38</th>\n",
       "      <th>R</th>\n",
       "      <th>S</th>\n",
       "      <th>U</th>\n",
       "      <th>q20_21</th>\n",
       "    </tr>\n",
       "  </thead>\n",
       "  <tbody>\n",
       "    <tr>\n",
       "      <th>0</th>\n",
       "      <td>3</td>\n",
       "      <td>U</td>\n",
       "      <td>2</td>\n",
       "      <td>65</td>\n",
       "      <td>3</td>\n",
       "      <td>1</td>\n",
       "      <td>3</td>\n",
       "      <td>1</td>\n",
       "      <td>6</td>\n",
       "      <td>1</td>\n",
       "      <td>...</td>\n",
       "      <td>1</td>\n",
       "      <td>0</td>\n",
       "      <td>0</td>\n",
       "      <td>0</td>\n",
       "      <td>0</td>\n",
       "      <td>1</td>\n",
       "      <td>0.0</td>\n",
       "      <td>0.0</td>\n",
       "      <td>1.0</td>\n",
       "      <td>0</td>\n",
       "    </tr>\n",
       "    <tr>\n",
       "      <th>1</th>\n",
       "      <td>3</td>\n",
       "      <td>U</td>\n",
       "      <td>2</td>\n",
       "      <td>24</td>\n",
       "      <td>5</td>\n",
       "      <td>1</td>\n",
       "      <td>2</td>\n",
       "      <td></td>\n",
       "      <td>8</td>\n",
       "      <td>5</td>\n",
       "      <td>...</td>\n",
       "      <td>1</td>\n",
       "      <td>1</td>\n",
       "      <td>0</td>\n",
       "      <td>1</td>\n",
       "      <td>0</td>\n",
       "      <td>0</td>\n",
       "      <td>0.0</td>\n",
       "      <td>0.0</td>\n",
       "      <td>1.0</td>\n",
       "      <td>1</td>\n",
       "    </tr>\n",
       "    <tr>\n",
       "      <th>2</th>\n",
       "      <td>1</td>\n",
       "      <td>U</td>\n",
       "      <td>2</td>\n",
       "      <td>99</td>\n",
       "      <td>5</td>\n",
       "      <td>1</td>\n",
       "      <td>1</td>\n",
       "      <td></td>\n",
       "      <td>4</td>\n",
       "      <td>2</td>\n",
       "      <td>...</td>\n",
       "      <td>1</td>\n",
       "      <td>1</td>\n",
       "      <td>0</td>\n",
       "      <td>99</td>\n",
       "      <td>1</td>\n",
       "      <td>1</td>\n",
       "      <td>0.0</td>\n",
       "      <td>0.0</td>\n",
       "      <td>1.0</td>\n",
       "      <td>0</td>\n",
       "    </tr>\n",
       "    <tr>\n",
       "      <th>3</th>\n",
       "      <td>1</td>\n",
       "      <td>S</td>\n",
       "      <td>2</td>\n",
       "      <td>45</td>\n",
       "      <td>4</td>\n",
       "      <td>1</td>\n",
       "      <td>99</td>\n",
       "      <td>1</td>\n",
       "      <td>8</td>\n",
       "      <td>2</td>\n",
       "      <td>...</td>\n",
       "      <td>1</td>\n",
       "      <td>1</td>\n",
       "      <td>0</td>\n",
       "      <td>1</td>\n",
       "      <td>0</td>\n",
       "      <td>1</td>\n",
       "      <td>0.0</td>\n",
       "      <td>1.0</td>\n",
       "      <td>0.0</td>\n",
       "      <td>0</td>\n",
       "    </tr>\n",
       "    <tr>\n",
       "      <th>4</th>\n",
       "      <td>2</td>\n",
       "      <td>S</td>\n",
       "      <td>1</td>\n",
       "      <td>21</td>\n",
       "      <td>5</td>\n",
       "      <td>1</td>\n",
       "      <td>1</td>\n",
       "      <td></td>\n",
       "      <td>3</td>\n",
       "      <td>2</td>\n",
       "      <td>...</td>\n",
       "      <td>1</td>\n",
       "      <td>0</td>\n",
       "      <td>0</td>\n",
       "      <td>1</td>\n",
       "      <td>0</td>\n",
       "      <td>99</td>\n",
       "      <td>0.0</td>\n",
       "      <td>1.0</td>\n",
       "      <td>0.0</td>\n",
       "      <td>0</td>\n",
       "    </tr>\n",
       "  </tbody>\n",
       "</table>\n",
       "<p>5 rows × 33 columns</p>\n",
       "</div>"
      ],
      "text/plain": [
       "   cregion usr  sexz  agerec  density  racecmb  party partyln  educ2  relig  \\\n",
       "0        3   U     2      65        3        1      3       1      6      1   \n",
       "1        3   U     2      24        5        1      2              8      5   \n",
       "2        1   U     2      99        5        1      1              4      2   \n",
       "3        1   S     2      45        4        1     99       1      8      2   \n",
       "4        2   S     1      21        5        1      1              3      2   \n",
       "\n",
       "    ...    q24f  q25  q33  q34  q35  q38    R    S    U  q20_21  \n",
       "0   ...       1    0    0    0    0    1  0.0  0.0  1.0       0  \n",
       "1   ...       1    1    0    1    0    0  0.0  0.0  1.0       1  \n",
       "2   ...       1    1    0   99    1    1  0.0  0.0  1.0       0  \n",
       "3   ...       1    1    0    1    0    1  0.0  1.0  0.0       0  \n",
       "4   ...       1    0    0    1    0   99  0.0  1.0  0.0       0  \n",
       "\n",
       "[5 rows x 33 columns]"
      ]
     },
     "execution_count": 292,
     "metadata": {},
     "output_type": "execute_result"
    }
   ],
   "source": [
    "from sklearn.linear_model import LogisticRegression\n",
    "from sklearn.model_selection import GridSearchCV\n",
    "from sklearn.model_selection import cross_val_score\n",
    "\n",
    "df2.head()"
   ]
  },
  {
   "cell_type": "code",
   "execution_count": 293,
   "metadata": {
    "collapsed": false
   },
   "outputs": [
    {
     "data": {
      "text/plain": [
       "Index(['cregion', 'usr', 'sexz', 'agerec', 'density', 'racecmb', 'party',\n",
       "       'partyln', 'educ2', 'relig', 'ideo', 'income', 'q7', 'q16', 'q20f1',\n",
       "       'q21af2', 'q21bf2', 'q21cf2', 'q24a', 'q24b', 'q24c', 'q24d', 'q24e',\n",
       "       'q24f', 'q25', 'q33', 'q34', 'q35', 'q38', 'R', 'S', 'U', 'q20_21'],\n",
       "      dtype='object')"
      ]
     },
     "execution_count": 293,
     "metadata": {},
     "output_type": "execute_result"
    }
   ],
   "source": [
    "df2.columns"
   ]
  },
  {
   "cell_type": "code",
   "execution_count": null,
   "metadata": {
    "collapsed": true
   },
   "outputs": [],
   "source": []
  },
  {
   "cell_type": "markdown",
   "metadata": {},
   "source": [
    "##### choose features relevant to question (iterative process)"
   ]
  },
  {
   "cell_type": "code",
   "execution_count": 294,
   "metadata": {
    "collapsed": true
   },
   "outputs": [],
   "source": [
    "features = ['cregion', 'U', 'S', 'R', 'sexz', 'agerec', \\\n",
    "             'educ2', 'ideo', 'income']"
   ]
  },
  {
   "cell_type": "code",
   "execution_count": 3,
   "metadata": {
    "collapsed": false
   },
   "outputs": [],
   "source": [
    "# define function for evaluating models\n",
    "# the function performs a grid search over model parameters\n",
    "def eval_model(question, features, df):\n",
    "    \n",
    "    items = features + question\n",
    "    df_test = df[df[items]!=99][items].dropna().astype(int)\n",
    "    X = df_test[items[:-1]]\n",
    "    y = df_test[items[-1]]\n",
    "\n",
    "    Cs = np.logspace(0, 5, 20)\n",
    "    penalties = ('l1', 'l2')\n",
    "    class_weights = (None, 'balanced')\n",
    "    parameters = {'penalty':penalties, 'C':Cs, 'class_weight':class_weights}\n",
    "    model = LogisticRegression()\n",
    "    \n",
    "    clf = GridSearchCV(model, parameters, cv=4, n_jobs=-1)\n",
    "    clf.fit(X, y)\n",
    "\n",
    "    return(#\"cv_results\", clf.cv_results_, \n",
    "           \"best_params\", clf.best_params_,\n",
    "           \"best_score\", clf.best_score_, \n",
    "           \"y_mean\", y.mean() )"
   ]
  },
  {
   "cell_type": "markdown",
   "metadata": {},
   "source": [
    "### We can now evaluate the model for different questions. Each time we will compare the result to the mean of the response as a measure of how well the model is performing. The mean of the response (a given question) would be the score obtained from always choosing yes (1)."
   ]
  },
  {
   "cell_type": "code",
   "execution_count": 296,
   "metadata": {
    "collapsed": false
   },
   "outputs": [
    {
     "data": {
      "text/plain": [
       "('best_params',\n",
       " {'C': 6.1584821106602643, 'class_weight': None, 'penalty': 'l1'},\n",
       " 'best_score',\n",
       " 0.78988561107766408,\n",
       " 'y_mean',\n",
       " 0.7802528597230584)"
      ]
     },
     "execution_count": 296,
     "metadata": {},
     "output_type": "execute_result"
    }
   ],
   "source": [
    "# q20_21\n",
    "question = ['q20_21']\n",
    "eval_model(question, features, df2)"
   ]
  },
  {
   "cell_type": "code",
   "execution_count": 297,
   "metadata": {
    "collapsed": false
   },
   "outputs": [
    {
     "data": {
      "text/plain": [
       "('best_params',\n",
       " {'C': 1.0, 'class_weight': 'balanced', 'penalty': 'l1'},\n",
       " 'best_score',\n",
       " 0.6396614268440145,\n",
       " 'y_mean',\n",
       " 0.5235792019347038)"
      ]
     },
     "execution_count": 297,
     "metadata": {},
     "output_type": "execute_result"
    }
   ],
   "source": [
    "# q24a\n",
    "question = ['q24a']\n",
    "eval_model(question, features, df2)"
   ]
  },
  {
   "cell_type": "code",
   "execution_count": 298,
   "metadata": {
    "collapsed": false
   },
   "outputs": [
    {
     "data": {
      "text/plain": [
       "('best_params',\n",
       " {'C': 3.3598182862837818, 'class_weight': 'balanced', 'penalty': 'l2'},\n",
       " 'best_score',\n",
       " 0.63432383262583381,\n",
       " 'y_mean',\n",
       " 0.49787750151607035)"
      ]
     },
     "execution_count": 298,
     "metadata": {},
     "output_type": "execute_result"
    }
   ],
   "source": [
    "# q24b\n",
    "question = ['q24b']\n",
    "eval_model(question, features, df2)"
   ]
  },
  {
   "cell_type": "code",
   "execution_count": 299,
   "metadata": {
    "collapsed": false
   },
   "outputs": [
    {
     "data": {
      "text/plain": [
       "('best_params',\n",
       " {'C': 1.0, 'class_weight': None, 'penalty': 'l2'},\n",
       " 'best_score',\n",
       " 0.66517571884984028,\n",
       " 'y_mean',\n",
       " 0.4536741214057508)"
      ]
     },
     "execution_count": 299,
     "metadata": {},
     "output_type": "execute_result"
    }
   ],
   "source": [
    "# q24c\n",
    "question = ['q24c']\n",
    "eval_model(question, features, df2)"
   ]
  },
  {
   "cell_type": "code",
   "execution_count": 300,
   "metadata": {
    "collapsed": false
   },
   "outputs": [
    {
     "data": {
      "text/plain": [
       "('best_params',\n",
       " {'C': 1.0, 'class_weight': None, 'penalty': 'l1'},\n",
       " 'best_score',\n",
       " 0.73469387755102045,\n",
       " 'y_mean',\n",
       " 0.7346938775510204)"
      ]
     },
     "execution_count": 300,
     "metadata": {},
     "output_type": "execute_result"
    }
   ],
   "source": [
    "# q24d\n",
    "question = ['q24d']\n",
    "eval_model(question, features, df2)"
   ]
  },
  {
   "cell_type": "code",
   "execution_count": 301,
   "metadata": {
    "collapsed": false
   },
   "outputs": [
    {
     "data": {
      "text/plain": [
       "('best_params',\n",
       " {'C': 11.28837891684689, 'class_weight': 'balanced', 'penalty': 'l1'},\n",
       " 'best_score',\n",
       " 0.67757575757575761,\n",
       " 'y_mean',\n",
       " 0.5442424242424242)"
      ]
     },
     "execution_count": 301,
     "metadata": {},
     "output_type": "execute_result"
    }
   ],
   "source": [
    "# q24e\n",
    "question = ['q24e']\n",
    "eval_model(question, features, df2)"
   ]
  },
  {
   "cell_type": "code",
   "execution_count": 302,
   "metadata": {
    "collapsed": false
   },
   "outputs": [
    {
     "data": {
      "text/plain": [
       "('best_params',\n",
       " {'C': 1.8329807108324359, 'class_weight': None, 'penalty': 'l1'},\n",
       " 'best_score',\n",
       " 0.60766423357664234,\n",
       " 'y_mean',\n",
       " 0.5736009732360098)"
      ]
     },
     "execution_count": 302,
     "metadata": {},
     "output_type": "execute_result"
    }
   ],
   "source": [
    "# q24f\n",
    "question = ['q24f']\n",
    "eval_model(question, features, df2)"
   ]
  },
  {
   "cell_type": "code",
   "execution_count": 303,
   "metadata": {
    "collapsed": false
   },
   "outputs": [
    {
     "data": {
      "text/plain": [
       "('best_params',\n",
       " {'C': 1.0, 'class_weight': None, 'penalty': 'l1'},\n",
       " 'best_score',\n",
       " 0.71300715990453456,\n",
       " 'y_mean',\n",
       " 0.2852028639618138)"
      ]
     },
     "execution_count": 303,
     "metadata": {},
     "output_type": "execute_result"
    }
   ],
   "source": [
    "# q25\n",
    "question = ['q25']\n",
    "eval_model(question, features, df2)"
   ]
  },
  {
   "cell_type": "code",
   "execution_count": 304,
   "metadata": {
    "collapsed": false
   },
   "outputs": [
    {
     "data": {
      "text/plain": [
       "('best_params',\n",
       " {'C': 1.0, 'class_weight': None, 'penalty': 'l1'},\n",
       " 'best_score',\n",
       " 0.83751493428912782,\n",
       " 'y_mean',\n",
       " 0.16248506571087215)"
      ]
     },
     "execution_count": 304,
     "metadata": {},
     "output_type": "execute_result"
    }
   ],
   "source": [
    "# q33\n",
    "question = ['q33']\n",
    "eval_model(question, features, df2)"
   ]
  },
  {
   "cell_type": "code",
   "execution_count": 305,
   "metadata": {
    "collapsed": false
   },
   "outputs": [
    {
     "data": {
      "text/plain": [
       "('best_params',\n",
       " {'C': 1.0, 'class_weight': 'balanced', 'penalty': 'l1'},\n",
       " 'best_score',\n",
       " 0.56908094948265364,\n",
       " 'y_mean',\n",
       " 0.5015216068167986)"
      ]
     },
     "execution_count": 305,
     "metadata": {},
     "output_type": "execute_result"
    }
   ],
   "source": [
    "# q34\n",
    "question = ['q34']\n",
    "eval_model(question, features, df2)"
   ]
  },
  {
   "cell_type": "code",
   "execution_count": 306,
   "metadata": {
    "collapsed": false
   },
   "outputs": [
    {
     "data": {
      "text/plain": [
       "('best_params',\n",
       " {'C': 1.0, 'class_weight': None, 'penalty': 'l1'},\n",
       " 'best_score',\n",
       " 0.70319084888621308,\n",
       " 'y_mean',\n",
       " 0.30222757375075254)"
      ]
     },
     "execution_count": 306,
     "metadata": {},
     "output_type": "execute_result"
    }
   ],
   "source": [
    "# q35\n",
    "question = ['q35']\n",
    "eval_model(question, features, df2)"
   ]
  },
  {
   "cell_type": "code",
   "execution_count": 307,
   "metadata": {
    "collapsed": false
   },
   "outputs": [
    {
     "data": {
      "text/plain": [
       "('best_params',\n",
       " {'C': 11.28837891684689, 'class_weight': None, 'penalty': 'l1'},\n",
       " 'best_score',\n",
       " 0.63574520717377858,\n",
       " 'y_mean',\n",
       " 0.4199134199134199)"
      ]
     },
     "execution_count": 307,
     "metadata": {},
     "output_type": "execute_result"
    }
   ],
   "source": [
    "# q38\n",
    "question = ['q38']\n",
    "eval_model(question, features, df2)"
   ]
  },
  {
   "cell_type": "markdown",
   "metadata": {},
   "source": [
    "#### For each question,  the model does as least as well as the mean score."
   ]
  }
 ],
 "metadata": {
  "anaconda-cloud": {},
  "kernelspec": {
   "display_name": "Python [Root]",
   "language": "python",
   "name": "Python [Root]"
  },
  "language_info": {
   "codemirror_mode": {
    "name": "ipython",
    "version": 3
   },
   "file_extension": ".py",
   "mimetype": "text/x-python",
   "name": "python",
   "nbconvert_exporter": "python",
   "pygments_lexer": "ipython3",
   "version": "3.5.2"
  }
 },
 "nbformat": 4,
 "nbformat_minor": 0
}
